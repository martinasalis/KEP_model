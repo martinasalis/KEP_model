{
  "nbformat": 4,
  "nbformat_minor": 0,
  "metadata": {
    "colab": {
      "name": "main.ipynb",
      "provenance": [],
      "authorship_tag": "ABX9TyPFoO3PtBWGYSXk8+/86mNH"
    },
    "kernelspec": {
      "name": "python3",
      "display_name": "Python 3"
    },
    "language_info": {
      "name": "python"
    }
  },
  "cells": [
    {
      "cell_type": "code",
      "execution_count": 11,
      "metadata": {
        "id": "_jHMTvbMhfpU",
        "colab": {
          "base_uri": "https://localhost:8080/"
        },
        "outputId": "b48976b6-8442-4db5-9e9e-c981f6722a27"
      },
      "outputs": [
        {
          "output_type": "stream",
          "name": "stdout",
          "text": [
            "Requirement already satisfied: docplex in /usr/local/lib/python3.7/dist-packages (2.22.213)\n",
            "Requirement already satisfied: cplex in /usr/local/lib/python3.7/dist-packages (20.1.0.3)\n",
            "Requirement already satisfied: six in /usr/local/lib/python3.7/dist-packages (from docplex) (1.15.0)\n"
          ]
        }
      ],
      "source": [
        "!pip install docplex cplex"
      ]
    },
    {
      "cell_type": "code",
      "source": [
        "#Importing cplex API\n",
        "import sys\n",
        "import cplex\n",
        "import docplex.cp\n",
        "\n",
        "#Importing numpy and random generator\n",
        "import numpy as np\n",
        "rand = np.random\n",
        "\n",
        "#Importing pyplot\n",
        "import matplotlib.pyplot as plt\n",
        "\n",
        "#Importing docplex model\n",
        "from docplex.mp.model import Model\n",
        "import itertools\n",
        "\n",
        "#Imports\n",
        "from enum import Enum\n",
        "from cplex.callbacks import UserCutCallback, LazyConstraintCallback\n",
        "import networkx as nx"
      ],
      "metadata": {
        "id": "HcIdtwETi35V"
      },
      "execution_count": 12,
      "outputs": []
    },
    {
      "cell_type": "markdown",
      "source": [
        "**Definizione classi**"
      ],
      "metadata": {
        "id": "Au_wlZLZJ9zD"
      }
    },
    {
      "cell_type": "markdown",
      "source": [
        "Definizione lazy constraints"
      ],
      "metadata": {
        "id": "xePEv3T0J6WR"
      }
    },
    {
      "cell_type": "code",
      "source": [
        "class LazyCallback(LazyConstraintCallback):\n",
        "  \"\"\"Lazy constraint callback to enforce the capacity constraints.\n",
        "\n",
        "  If used then the callback is invoked for every integer feasible\n",
        "  solution CPLEX finds. For each location j it checks whether\n",
        "  constraint\n",
        "\n",
        "  sum(c in C) supply[c][j] <= (|C| - 1) * used[j]\n",
        "  sum(e in C) y[e] <= (|C| - 1)\n",
        "\n",
        "  is satisfied. If not then it adds the violated constraint as lazy\n",
        "  constraint.\n",
        "  \"\"\"\n",
        "\n",
        "  # Callback constructor. Fields 'locations', 'clients', 'used', 'supply'\n",
        "  # are set externally after registering the callback.\n",
        "  def __init__(self, env):\n",
        "    super().__init__(env)\n",
        "\n",
        "  def __call__(self):\n",
        "    served = sum(self.get_values([self.y[e] for e in self.C]))\n",
        "    if served > (len(self.C) - 1.0):\n",
        "      print('Adding lazy constraint %s <= %d' % \n",
        "            (' + '.join(['y(%d)' % (x) for x in self.C]), len(self.C) - 1))\n",
        "      self.add(constraint=cplex.SparsePair([self.y[e] for e in self.C] - (len(self.C) - 1), \n",
        "                                           [1.0] * len(self.C) + [-(len(self.C) - 1)]), \n",
        "               sense='L', \n",
        "               rhs=0.0)"
      ],
      "metadata": {
        "id": "53g_jXBSu0_B"
      },
      "execution_count": 72,
      "outputs": []
    },
    {
      "cell_type": "markdown",
      "source": [
        "Definizione vertice"
      ],
      "metadata": {
        "id": "9rQmukVKJwOT"
      }
    },
    {
      "cell_type": "code",
      "source": [
        "class Type(Enum):\n",
        "  AD = 1\n",
        "  B = 2\n",
        "  P = 3\n",
        "\n",
        "\n",
        "class Vertex:\n",
        "  def __init__(self, tp, delta_in, delta_out):\n",
        "    self.tp = tp\n",
        "\n",
        "    # delta_in = minus\n",
        "    self.delta_in = delta_in\n",
        "    \n",
        "    # delta_out = plus\n",
        "    self.delta_out = delta_out"
      ],
      "metadata": {
        "id": "smKPG0TQmBDy"
      },
      "execution_count": 13,
      "outputs": []
    },
    {
      "cell_type": "markdown",
      "source": [
        "**Definizione funzioni**"
      ],
      "metadata": {
        "id": "eW-o_O6vKDSn"
      }
    },
    {
      "cell_type": "markdown",
      "source": [
        "Funzioni di stampa del risultato"
      ],
      "metadata": {
        "id": "k4Dv1uBIJpJf"
      }
    },
    {
      "cell_type": "code",
      "source": [
        "def get_edges(y):\n",
        "  res = []\n",
        "  for i in y:\n",
        "    if(y[i] != 0):\n",
        "      res.append(i)\n",
        "  \n",
        "  return set(res)\n",
        "\n",
        "\n",
        "def get_vertex(f_in, f_out, edges, V):\n",
        "\n",
        "  V_copy = []\n",
        "  chains = []\n",
        "  cycles = []\n",
        "\n",
        "  # Eliminiamo tutti i vertici non utilizzati nella soluzione\n",
        "  for i,v in enumerate(V):\n",
        "    if f_in[i] != 0 or f_out[i] != 0:\n",
        "      # Calcoliamo l'intersezione tra l'insieme degli edges entranti nel nodo v\n",
        "      # e l'insieme degli edges usati nella soluzione\n",
        "      aux_set = edges.intersection(set(v.delta_in))\n",
        "      # Aggiorniamo la lista degli edges entranti nel nodo v\n",
        "      v_aux_delta_in = list(aux_set)\n",
        "\n",
        "      # Calcoliamo l'intersezione tra l'insieme degli edges uscenti dal nodo v\n",
        "      # e l'insieme degli edges usati nella soluzione\n",
        "      aux_set = edges.intersection(set(v.delta_out))\n",
        "      # Aggiorniamo la lista degli edges uscenti dal nodo v\n",
        "      v_aux_delta_out = list(aux_set)\n",
        "\n",
        "      # Creiamo una copia del vertice usato nella soluzione trovata\n",
        "      V_copy.append(Vertex(v.tp, v_aux_delta_in, v_aux_delta_out))\n",
        "\n",
        "  print(len(V_copy))\n",
        "  i = 0\n",
        "  aux = []\n",
        "\n",
        "  # Controlliamo tutti i vertici della soluzione\n",
        "  while len(V_copy) > 0:\n",
        "    \n",
        "    # Controlliamo se il vertice corrente ha un flusso uscente\n",
        "    if len(V_copy[i].delta_out) > 0:\n",
        "      # Salviamo una copia dell'edge uscente dal vertice corrente\n",
        "      edge_out = V_copy[i].delta_out[0]\n",
        "      # Aggiungiamo il vertice corrente ad una lista temporanea\n",
        "      aux.append(V_copy[i])\n",
        "\n",
        "      vertex_found = False\n",
        "      # Cerchiamo nella lista il vertice successivo al vertice attuale\n",
        "      for j,v in enumerate(V_copy):\n",
        "        if j != i:\n",
        "          if len(v.delta_in) > 0:\n",
        "\n",
        "            # Controlliamo se l'edge uscente dal nodo j-esimo è uguale\n",
        "            # all'edge entrante nel vertice attuale\n",
        "            if v.delta_in[0] == edge_out:\n",
        "\n",
        "              # Rimuoviamo il vertice attuale dalla lista dei vertici\n",
        "              del V_copy[i]\n",
        "              vertex_found = True\n",
        "              # Aggiorniamo l'indice del vertice attuale\n",
        "              i = V_copy.index(v)\n",
        "              break\n",
        "      \n",
        "      # Se non è stato trovato il vertice successivo al vertice attuale,\n",
        "      # questo è l'utimo vertice di un ciclo\n",
        "      if not vertex_found:\n",
        "        cycles.append(aux)\n",
        "        aux = []\n",
        "        del V_copy[i]\n",
        "        i = 0\n",
        "\n",
        "    # Se il vertice corrente non ha un flusso uscente, questo è l'ultimo vertice\n",
        "    # di una catena\n",
        "    else:\n",
        "      # Controlliamo se il vertice attuale non è il primo della lista temporanea\n",
        "      if len(aux) > 0:\n",
        "        aux.append(V_copy[i])\n",
        "        chains.append(aux)\n",
        "        aux = []\n",
        "        del V_copy[i]\n",
        "        i = 0\n",
        "  \n",
        "  return chains, cycles"
      ],
      "metadata": {
        "id": "G008wdbcZrma"
      },
      "execution_count": null,
      "outputs": []
    },
    {
      "cell_type": "markdown",
      "source": [
        "**Esempio 1**"
      ],
      "metadata": {
        "id": "cZMl8j-YEiQp"
      }
    },
    {
      "cell_type": "code",
      "source": [
        "E = [i for i in range(0, 8)]    # Edges\n",
        "V = []  # Vertex\n",
        "w = [1 for i in range(0, 8)]  # Weigths\n",
        "k = 3"
      ],
      "metadata": {
        "id": "YoUBmlQVEy-G"
      },
      "execution_count": 62,
      "outputs": []
    },
    {
      "cell_type": "code",
      "source": [
        "V.append(Vertex(tp=Type.AD, delta_in=[], delta_out=[0])) # 0\n",
        "V.append(Vertex(tp=Type.P, delta_in=[0], delta_out=[1])) # 1\n",
        "V.append(Vertex(tp=Type.P, delta_in=[1], delta_out=[2, 3])) # 2\n",
        "V.append(Vertex(tp=Type.P, delta_in=[2], delta_out=[4])) # 3\n",
        "V.append(Vertex(tp=Type.P, delta_in=[3, 5], delta_out=[6])) # 4\n",
        "V.append(Vertex(tp=Type.P, delta_in=[6], delta_out=[5, 7])) # 5\n",
        "V.append(Vertex(tp=Type.B, delta_in=[4], delta_out=[])) # 6\n",
        "V.append(Vertex(tp=Type.B, delta_in=[7], delta_out=[])) # 7"
      ],
      "metadata": {
        "id": "mSueYPfEEgpz"
      },
      "execution_count": 63,
      "outputs": []
    },
    {
      "cell_type": "markdown",
      "source": [
        "Stampa grafo"
      ],
      "metadata": {
        "id": "_4i6biAqJVuN"
      }
    },
    {
      "cell_type": "code",
      "source": [
        "G = nx.DiGraph()\n",
        "G.add_edges_from([(0, 1), (1, 2), (2, 3), (2, 4), (3, 6), \n",
        "                  (4, 5), (5, 4), (5, 7)])\n",
        "  \n",
        "plt.figure(figsize =(9, 9))\n",
        "\n",
        "nx.draw_networkx(G, with_labels = True, node_color ='green')"
      ],
      "metadata": {
        "colab": {
          "base_uri": "https://localhost:8080/",
          "height": 520
        },
        "id": "g_uG_99BDa_J",
        "outputId": "bc68aa39-bd68-4d24-b5d4-690e279d362d"
      },
      "execution_count": 64,
      "outputs": [
        {
          "output_type": "display_data",
          "data": {
            "image/png": "[encoded data removed]",
            "text/plain": [
              "<Figure size 648x648 with 1 Axes>"
            ]
          },
          "metadata": {}
        }
      ]
    },
    {
      "cell_type": "markdown",
      "source": [
        "**Definizione modello**"
      ],
      "metadata": {
        "id": "oaSqO-liJBLK"
      }
    },
    {
      "cell_type": "code",
      "source": [
        "# Model\n",
        "model = Model('KEP_model')\n",
        "\n",
        "# Decision variables\n",
        "y = model.binary_var_dict(E, name='y')\n",
        "f_in = model.continuous_var_dict(len(V), name='f_in')\n",
        "f_out = model.continuous_var_dict(len(V), name='f_out')"
      ],
      "metadata": {
        "id": "nWcSjRU1jASU"
      },
      "execution_count": 65,
      "outputs": []
    },
    {
      "cell_type": "code",
      "source": [
        "#Function to minimize\n",
        "model.maximize(model.sum((w[e] * y[e]) for e in E))"
      ],
      "metadata": {
        "id": "mkoO5aZFulvA"
      },
      "execution_count": 66,
      "outputs": []
    },
    {
      "cell_type": "code",
      "source": [
        "#Constraints\n",
        "model.add_constraints(model.sum(y[e] for e in V[v].delta_in) == f_in[v] for v,_ in enumerate(V))\n",
        "model.add_constraints(model.sum(y[e] for e in V[v].delta_out) == f_out[v] for v,_ in enumerate(V))\n",
        "model.add_constraints((f_out[v] <= f_in[v]) for v,_ in enumerate(V) if V[v].tp == Type.P)\n",
        "model.add_constraints((f_in[v] <= 1) for v,_ in enumerate(V) if V[v].tp == Type.P)\n",
        "model.add_constraints((f_out[v] <= 1) for v,_ in enumerate(V) if (V[v].tp == Type.AD or V[v].tp == Type.B))"
      ],
      "metadata": {
        "id": "mE9UpKgijIOX",
        "colab": {
          "base_uri": "https://localhost:8080/"
        },
        "outputId": "6fe51f87-9038-4828-9603-f171ada0ef23"
      },
      "execution_count": 67,
      "outputs": [
        {
          "output_type": "execute_result",
          "data": {
            "text/plain": [
              "[docplex.mp.LinearConstraint[](f_out_0,LE,1),\n",
              " docplex.mp.LinearConstraint[](f_out_6,LE,1),\n",
              " docplex.mp.LinearConstraint[](f_out_7,LE,1)]"
            ]
          },
          "metadata": {},
          "execution_count": 67
        }
      ]
    },
    {
      "cell_type": "code",
      "source": [
        "def get_cycles_edges(C, V):\n",
        "  edges = []\n",
        "  aux = []\n",
        "\n",
        "  for c in C:\n",
        "    aux = []\n",
        "    \n",
        "    for i,_ in enumerate(c):\n",
        "      if (i + 1) != len(c):\n",
        "        aux.append(list(set(V[c[i]].delta_out).intersection(set(V[c[i + 1]].delta_in)))[0])\n",
        "      \n",
        "      else:\n",
        "        aux.append(list(set(V[c[i]].delta_out).intersection(set(V[c[0]].delta_in)))[0])\n",
        "    \n",
        "    edges.append(aux)\n",
        "\n",
        "  return edges"
      ],
      "metadata": {
        "id": "6bsL8fUnRRhT"
      },
      "execution_count": 68,
      "outputs": []
    },
    {
      "cell_type": "code",
      "source": [
        "all_cycles = list(nx.simple_cycles(G))\n",
        "C = []\n",
        "\n",
        "# Creiamo una lista di tutti i cicli con una lunghezza maggiore di k\n",
        "for c in all_cycles:\n",
        "  if len(c) > k:\n",
        "    C.append(c)\n",
        "\n",
        "C_edges = get_cycles_edges(C, V)\n",
        "\n",
        "# Aggiungiamo il lazy constraints al modello\n",
        "clb = model.register_callback(LazyCallback)\n",
        "clb.C = C_edges"
      ],
      "metadata": {
        "id": "KAzmYVr4zn99"
      },
      "execution_count": 73,
      "outputs": []
    },
    {
      "cell_type": "markdown",
      "source": [
        "**Soluzione**"
      ],
      "metadata": {
        "id": "znHa34qRJJNH"
      }
    },
    {
      "cell_type": "code",
      "source": [
        "solution = model.solve(log_output=True)\n",
        "model.solve(log_output=True)"
      ],
      "metadata": {
        "id": "tDj32RThujIM",
        "colab": {
          "base_uri": "https://localhost:8080/"
        },
        "outputId": "978b4eac-7a60-477d-f5cf-01db666efd79"
      },
      "execution_count": 74,
      "outputs": [
        {
          "output_type": "stream",
          "name": "stdout",
          "text": [
            "Version identifier: 20.1.0.1 | 2021-12-07 | 9dfdf6686\n",
            "CPXPARAM_Read_DataCheck                          1\n",
            "Legacy callback                                  LD\n",
            "Warning: Control callbacks may disable some MIP features.\n",
            "Lazy constraint(s) or lazy constraint/branch callback is present.\n",
            "    Disabling dual reductions (CPX_PARAM_REDUCE) in presolve.\n",
            "    Disabling presolve reductions that prevent crushing forms (CPX_PARAM_PREREFORM).\n",
            "         Disabling repeat represolve because of lazy constraint/incumbent callback.\n",
            "Tried aggregator 2 times.\n",
            "MIP Presolve eliminated 14 rows and 6 columns.\n",
            "Aggregator did 9 substitutions.\n",
            "Reduced MIP has 6 rows, 9 columns, and 15 nonzeros.\n",
            "Reduced MIP has 8 binaries, 0 generals, 0 SOSs, and 0 indicators.\n",
            "Presolve time = 0.01 sec. (0.03 ticks)\n",
            "Probing time = 0.00 sec. (0.00 ticks)\n",
            "Clique table members: 14.\n",
            "MIP emphasis: balance optimality and feasibility.\n",
            "MIP search method: traditional branch-and-cut.\n",
            "Parallel mode: none, using 1 thread.\n",
            "Root relaxation solution time = 0.00 sec. (0.01 ticks)\n",
            "Adding lazy constraint  <= -1\n",
            "\n",
            "Root node processing (before b&c):\n",
            "  Real time             =    0.05 sec. (0.05 ticks)\n",
            "Sequential b&c:\n",
            "  Real time             =    0.00 sec. (0.00 ticks)\n",
            "                          ------------\n",
            "Total (root+branch&cut) =    0.05 sec. (0.05 ticks)\n",
            "CPLEX Error  1006: Error during callback.\n",
            "Error: Internal error in CPLEX solve: TypeError: unsupported operand type(s) for -: 'list' and 'int'\n",
            "Version identifier: 20.1.0.1 | 2021-12-07 | 9dfdf6686\n",
            "CPXPARAM_Read_DataCheck                          1\n",
            "Legacy callback                                  LD\n",
            "Warning: Control callbacks may disable some MIP features.\n",
            "Lazy constraint(s) or lazy constraint/branch callback is present.\n",
            "    Disabling dual reductions (CPX_PARAM_REDUCE) in presolve.\n",
            "    Disabling presolve reductions that prevent crushing forms (CPX_PARAM_PREREFORM).\n",
            "         Disabling repeat represolve because of lazy constraint/incumbent callback.\n",
            "MIP emphasis: balance optimality and feasibility.\n",
            "MIP search method: traditional branch-and-cut.\n",
            "Parallel mode: none, using 1 thread.\n",
            "\n",
            "Root node processing (before b&c):\n",
            "  Real time             =    0.02 sec. (0.01 ticks)\n",
            "Sequential b&c:\n",
            "  Real time             =    0.00 sec. (0.00 ticks)\n",
            "                          ------------\n",
            "Total (root+branch&cut) =    0.02 sec. (0.01 ticks)\n"
          ]
        }
      ]
    },
    {
      "cell_type": "markdown",
      "source": [
        "**Stampa soluzione**"
      ],
      "metadata": {
        "id": "AZlGBHQqKd0s"
      }
    },
    {
      "cell_type": "code",
      "source": [
        "print(solution)"
      ],
      "metadata": {
        "colab": {
          "base_uri": "https://localhost:8080/"
        },
        "id": "fUYe6ctMLX2b",
        "outputId": "a0bb7ea7-a3a2-4689-87ed-7710fda37d8c"
      },
      "execution_count": 76,
      "outputs": [
        {
          "output_type": "stream",
          "name": "stdout",
          "text": [
            "None\n"
          ]
        }
      ]
    },
    {
      "cell_type": "code",
      "source": [
        "edges = get_edges(solution.get_value_dict(y))\n",
        "print(edges)"
      ],
      "metadata": {
        "colab": {
          "base_uri": "https://localhost:8080/"
        },
        "id": "pyAK69IphqMZ",
        "outputId": "c33115cc-7ef6-427d-91fd-db2e4512adc0"
      },
      "execution_count": null,
      "outputs": [
        {
          "output_type": "stream",
          "name": "stdout",
          "text": [
            "{0, 1, 2, 4, 5, 6}\n"
          ]
        }
      ]
    },
    {
      "cell_type": "code",
      "source": [
        "chains, cycles = get_vertex(solution.get_value_dict(f_in), solution.get_value_dict(f_out), edges, V)"
      ],
      "metadata": {
        "colab": {
          "base_uri": "https://localhost:8080/"
        },
        "id": "G4hGHWuYh29I",
        "outputId": "029cf30c-28ac-4435-9c64-49685a63afae"
      },
      "execution_count": null,
      "outputs": [
        {
          "output_type": "stream",
          "name": "stdout",
          "text": [
            "7\n"
          ]
        }
      ]
    },
    {
      "cell_type": "code",
      "source": [
        "for c in chains[0]:\n",
        "  print(str(c.tp) + \" \" + str(c.delta_in) + \" \" + str(c.delta_out))"
      ],
      "metadata": {
        "colab": {
          "base_uri": "https://localhost:8080/"
        },
        "id": "wKOuO39-kFPs",
        "outputId": "89faa05a-72aa-4469-d8f4-0656bc5a60b9"
      },
      "execution_count": null,
      "outputs": [
        {
          "output_type": "stream",
          "name": "stdout",
          "text": [
            "Type.AD [] [0]\n",
            "Type.P [0] [1]\n",
            "Type.P [1] [2]\n",
            "Type.P [2] [4]\n",
            "Type.B [4] []\n"
          ]
        }
      ]
    },
    {
      "cell_type": "code",
      "source": [
        "for c in cycles[0]:\n",
        "  print(str(c.tp) + \" \" + str(c.delta_in) + \" \" + str(c.delta_out))"
      ],
      "metadata": {
        "colab": {
          "base_uri": "https://localhost:8080/"
        },
        "id": "rCu3bflztJ6V",
        "outputId": "43ee8ecb-97fa-425b-a4ad-44ca7b8fc66c"
      },
      "execution_count": null,
      "outputs": [
        {
          "output_type": "stream",
          "name": "stdout",
          "text": [
            "Type.P [5] [6]\n",
            "Type.P [6] [5]\n"
          ]
        }
      ]
    }
  ]
}