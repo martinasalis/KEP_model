{
  "nbformat": 4,
  "nbformat_minor": 0,
  "metadata": {
    "colab": {
      "name": "main.ipynb",
      "provenance": [],
      "authorship_tag": "ABX9TyNXwHQl3Ln+JMOhqCnjFlfb"
    },
    "kernelspec": {
      "name": "python3",
      "display_name": "Python 3"
    },
    "language_info": {
      "name": "python"
    }
  },
  "cells": [
    {
      "cell_type": "code",
      "execution_count": 1,
      "metadata": {
        "id": "_jHMTvbMhfpU",
        "colab": {
          "base_uri": "https://localhost:8080/"
        },
        "outputId": "a3c6204e-4761-4637-e142-aa4f9eaba6ec"
      },
      "outputs": [
        {
          "output_type": "stream",
          "name": "stdout",
          "text": [
            "Collecting docplex\n",
            "  Downloading docplex-2.22.213.tar.gz (634 kB)\n",
            "\u001b[K     |████████████████████████████████| 634 kB 18.1 MB/s \n",
            "\u001b[?25hCollecting cplex\n",
            "  Downloading cplex-20.1.0.3-cp37-cp37m-manylinux1_x86_64.whl (30.9 MB)\n",
            "\u001b[K     |████████████████████████████████| 30.9 MB 1.3 MB/s \n",
            "\u001b[?25hRequirement already satisfied: six in /usr/local/lib/python3.7/dist-packages (from docplex) (1.15.0)\n",
            "Building wheels for collected packages: docplex\n",
            "  Building wheel for docplex (setup.py) ... \u001b[?25l\u001b[?25hdone\n",
            "  Created wheel for docplex: filename=docplex-2.22.213-py3-none-any.whl size=696882 sha256=ab856d8dd31b7197c0cade79bffe85f7a01b78deff42c69327fb9b736f6c0b4a\n",
            "  Stored in directory: /root/.cache/pip/wheels/90/69/6b/1375c68a5b7ff94c40263b151c86f58bd72200bf0c465b5ba3\n",
            "Successfully built docplex\n",
            "Installing collected packages: docplex, cplex\n",
            "Successfully installed cplex-20.1.0.3 docplex-2.22.213\n"
          ]
        }
      ],
      "source": [
        "!pip install docplex cplex"
      ]
    },
    {
      "cell_type": "code",
      "source": [
        "#Importing cplex API\n",
        "import sys\n",
        "import cplex\n",
        "import docplex.cp\n",
        "\n",
        "#Importing numpy and random generator\n",
        "import numpy as np\n",
        "rand = np.random\n",
        "\n",
        "#Importing pyplot\n",
        "import matplotlib.pyplot as plt\n",
        "\n",
        "#Importing docplex model\n",
        "from docplex.mp.model import Model\n",
        "import itertools\n",
        "\n",
        "#Imports\n",
        "from enum import Enum\n",
        "from cplex.callbacks import UserCutCallback, LazyConstraintCallback"
      ],
      "metadata": {
        "id": "HcIdtwETi35V"
      },
      "execution_count": 2,
      "outputs": []
    },
    {
      "cell_type": "code",
      "source": [
        "class LazyCallback(LazyConstraintCallback):\n",
        "    \"\"\"Lazy constraint callback to enforce the capacity constraints.\n",
        "\n",
        "    If used then the callback is invoked for every integer feasible\n",
        "    solution CPLEX finds. For each location j it checks whether\n",
        "    constraint\n",
        "\n",
        "    sum(c in C) supply[c][j] <= (|C| - 1) * used[j]\n",
        "    sum(e in C) y[e] <= (|C| - 1)\n",
        "\n",
        "    is satisfied. If not then it adds the violated constraint as lazy\n",
        "    constraint.\n",
        "    \"\"\"\n",
        "\n",
        "    # Callback constructor. Fields 'locations', 'clients', 'used', 'supply'\n",
        "    # are set externally after registering the callback.\n",
        "    def __init__(self, env):\n",
        "      super().__init__(env)\n",
        "\n",
        "    def __call__(self):\n",
        "      \n",
        "\n",
        "        for j in C:\n",
        "            served = sum(self.get_values(\n",
        "                [self.y[e] for e in self.C]))\n",
        "            if served > (len(self.C) - 1.0):\n",
        "                print('Adding lazy constraint %s <= %d' %\n",
        "                      (' + '.join(['y(%d)' % (x) for x in self.C]),\n",
        "                       len(self.C) - 1))\n",
        "                self.add(constraint=cplex.SparsePair(\n",
        "                    [self.y[e] for e in self.C] - (len(self.C) - 1),\n",
        "                    [1.0] * len(self.C) + [-(len(self.C) - 1)]),\n",
        "                    sense='L',\n",
        "                    rhs=0.0)"
      ],
      "metadata": {
        "id": "53g_jXBSu0_B"
      },
      "execution_count": null,
      "outputs": []
    },
    {
      "cell_type": "code",
      "source": [
        "class Type(Enum):\n",
        "  AD = 1\n",
        "  B = 2\n",
        "  P = 3\n",
        "\n",
        "\n",
        "class Vertex:\n",
        "  def __init__(self, tp, delta_in, delta_out):\n",
        "    self.tp = tp\n",
        "\n",
        "    # delta_in = minus\n",
        "    self.delta_in = delta_in\n",
        "    \n",
        "    # delta_out = plus\n",
        "    self.delta_out = delta_out"
      ],
      "metadata": {
        "id": "smKPG0TQmBDy"
      },
      "execution_count": 53,
      "outputs": []
    },
    {
      "cell_type": "markdown",
      "source": [
        "**Esempio 1**"
      ],
      "metadata": {
        "id": "cZMl8j-YEiQp"
      }
    },
    {
      "cell_type": "code",
      "source": [
        "E = [\"E1\", \"E2\", \"E3\", \"E5\", \"E6\", \"E7\"]  # Edges\n",
        "V = []  # Vertex\n",
        "w = [1, 1, 1, 1, 1, 1]  # Weigths"
      ],
      "metadata": {
        "id": "yJCiEDRej3Ta"
      },
      "execution_count": null,
      "outputs": []
    },
    {
      "cell_type": "code",
      "source": [
        "V.append(Vertex(tp=Type.AD, delta=([],[\"E1\"])))\n",
        "V.append(Vertex(tp=Type.P, delta=([\"E1\"],[\"E2\"])))\n",
        "V.append(Vertex(tp=Type.P, delta=([\"E2\"],[\"E3\"])))\n",
        "V.append(Vertex(tp=Type.P, delta=([\"E3\"],[\"E5\"])))\n",
        "V.append(Vertex(tp=Type.P, delta=([\"E6\"],[\"E7\"])))\n",
        "V.append(Vertex(tp=Type.P, delta=([\"E7\"],[\"E6\"])))\n",
        "V.append(Vertex(tp=Type.P, delta=([\"E5\"],[])))\n",
        "V.append(Vertex(tp=Type.P, delta=([],[])))"
      ],
      "metadata": {
        "id": "QMGHtKTg_gP9"
      },
      "execution_count": null,
      "outputs": []
    },
    {
      "cell_type": "markdown",
      "source": [
        "**Esempio 2**"
      ],
      "metadata": {
        "id": "xOIDKm4HElk_"
      }
    },
    {
      "cell_type": "code",
      "source": [
        "E = [i for i in range(0, 8)]    # Edges\n",
        "V = []  # Vertex\n",
        "w = [1 for i in range(0, 8)]  # Weigths"
      ],
      "metadata": {
        "id": "YoUBmlQVEy-G"
      },
      "execution_count": 54,
      "outputs": []
    },
    {
      "cell_type": "code",
      "source": [
        "V.append(Vertex(tp=Type.AD, delta_in=[], delta_out=[0]))\n",
        "V.append(Vertex(tp=Type.P, delta_in=[0], delta_out=[1]))\n",
        "V.append(Vertex(tp=Type.P, delta_in=[1], delta_out=[2, 3]))\n",
        "V.append(Vertex(tp=Type.P, delta_in=[2], delta_out=[4]))\n",
        "V.append(Vertex(tp=Type.P, delta_in=[3, 5], delta_out=[6]))\n",
        "V.append(Vertex(tp=Type.P, delta_in=[6], delta_out=[5, 7]))\n",
        "V.append(Vertex(tp=Type.B, delta_in=[4], delta_out=[]))\n",
        "V.append(Vertex(tp=Type.B, delta_in=[7], delta_out=[]))"
      ],
      "metadata": {
        "id": "mSueYPfEEgpz"
      },
      "execution_count": 55,
      "outputs": []
    },
    {
      "cell_type": "code",
      "source": [
        "# Model\n",
        "model = Model('KEP_model')\n",
        "\n",
        "# Decision variables\n",
        "y = model.binary_var_dict(E, name='y')\n",
        "f_in = model.continuous_var_dict(len(V), name='f_in')\n",
        "f_out = model.continuous_var_dict(len(V), name='f_out')"
      ],
      "metadata": {
        "id": "nWcSjRU1jASU"
      },
      "execution_count": 56,
      "outputs": []
    },
    {
      "cell_type": "code",
      "source": [
        "#Function to minimize\n",
        "model.maximize(model.sum((w[e] * y[e]) for e in E))"
      ],
      "metadata": {
        "id": "mkoO5aZFulvA"
      },
      "execution_count": 57,
      "outputs": []
    },
    {
      "cell_type": "code",
      "source": [
        "#Constraints\n",
        "model.add_constraints(model.sum(y[e] for e in V[v].delta_in) == f_in[v] for v,_ in enumerate(V))\n",
        "model.add_constraints(model.sum(y[e] for e in V[v].delta_out) == f_out[v] for v,_ in enumerate(V))\n",
        "model.add_constraints((f_out[v] <= f_in[v]) for v,_ in enumerate(V) if V[v].tp == Type.P)\n",
        "model.add_constraints((f_in[v] <= 1) for v,_ in enumerate(V) if V[v].tp == Type.P)\n",
        "model.add_constraints((f_out[v] <= 1) for v,_ in enumerate(V) if (V[v].tp == Type.AD or V[v].tp == Type.B))"
      ],
      "metadata": {
        "id": "mE9UpKgijIOX",
        "colab": {
          "base_uri": "https://localhost:8080/"
        },
        "outputId": "1d61bf5e-28d2-4340-a5a4-08cd021cad79"
      },
      "execution_count": 58,
      "outputs": [
        {
          "output_type": "execute_result",
          "data": {
            "text/plain": [
              "[docplex.mp.LinearConstraint[](f_out_0,LE,1),\n",
              " docplex.mp.LinearConstraint[](f_out_6,LE,1),\n",
              " docplex.mp.LinearConstraint[](f_out_7,LE,1)]"
            ]
          },
          "metadata": {},
          "execution_count": 58
        }
      ]
    },
    {
      "cell_type": "code",
      "source": [
        "clb = model.register_callback(LazyCallback)"
      ],
      "metadata": {
        "id": "KAzmYVr4zn99"
      },
      "execution_count": null,
      "outputs": []
    },
    {
      "cell_type": "code",
      "source": [
        "solution = model.solve(log_output=True)\n",
        "model.solve(log_output=True)"
      ],
      "metadata": {
        "id": "tDj32RThujIM",
        "colab": {
          "base_uri": "https://localhost:8080/"
        },
        "outputId": "730cc847-59a3-4166-9ecd-f3d2b5d0ca24"
      },
      "execution_count": 59,
      "outputs": [
        {
          "output_type": "stream",
          "name": "stdout",
          "text": [
            "Version identifier: 20.1.0.1 | 2021-12-07 | 9dfdf6686\n",
            "CPXPARAM_Read_DataCheck                          1\n",
            "Found incumbent of value 0.000000 after 0.00 sec. (0.00 ticks)\n",
            "Tried aggregator 3 times.\n",
            "MIP Presolve eliminated 15 rows and 8 columns.\n",
            "Aggregator did 12 substitutions.\n",
            "Reduced MIP has 2 rows, 4 columns, and 6 nonzeros.\n",
            "Reduced MIP has 3 binaries, 0 generals, 0 SOSs, and 0 indicators.\n",
            "Presolve time = 0.01 sec. (0.04 ticks)\n",
            "Probing time = 0.00 sec. (0.00 ticks)\n",
            "Tried aggregator 2 times.\n",
            "MIP Presolve eliminated 2 rows and 3 columns.\n",
            "MIP Presolve added 1 rows and 1 columns.\n",
            "Aggregator did 1 substitutions.\n",
            "All rows and columns eliminated.\n",
            "Presolve time = 0.01 sec. (0.01 ticks)\n",
            "\n",
            "Root node processing (before b&c):\n",
            "  Real time             =    0.03 sec. (0.05 ticks)\n",
            "Parallel b&c, 2 threads:\n",
            "  Real time             =    0.00 sec. (0.00 ticks)\n",
            "  Sync time (average)   =    0.00 sec.\n",
            "  Wait time (average)   =    0.00 sec.\n",
            "                          ------------\n",
            "Total (root+branch&cut) =    0.03 sec. (0.05 ticks)\n",
            "Version identifier: 20.1.0.1 | 2021-12-07 | 9dfdf6686\n",
            "CPXPARAM_Read_DataCheck                          1\n",
            "\n",
            "Root node processing (before b&c):\n",
            "  Real time             =    0.00 sec. (0.00 ticks)\n",
            "Parallel b&c, 2 threads:\n",
            "  Real time             =    0.00 sec. (0.00 ticks)\n",
            "  Sync time (average)   =    0.00 sec.\n",
            "  Wait time (average)   =    0.00 sec.\n",
            "                          ------------\n",
            "Total (root+branch&cut) =    0.00 sec. (0.00 ticks)\n"
          ]
        },
        {
          "output_type": "execute_result",
          "data": {
            "text/plain": [
              "docplex.mp.solution.SolveSolution(obj=6,values={y_0:1,y_1:1,y_2:1,y_4:1,.."
            ]
          },
          "metadata": {},
          "execution_count": 59
        }
      ]
    },
    {
      "cell_type": "code",
      "source": [
        "print(solution)"
      ],
      "metadata": {
        "colab": {
          "base_uri": "https://localhost:8080/"
        },
        "id": "fUYe6ctMLX2b",
        "outputId": "6b12d42e-fb5c-48ae-ae71-ffb4142d70c4"
      },
      "execution_count": 60,
      "outputs": [
        {
          "output_type": "stream",
          "name": "stdout",
          "text": [
            "solution for: KEP_model\n",
            "objective: 6\n",
            "y_0=1\n",
            "y_1=1\n",
            "y_2=1\n",
            "y_4=1\n",
            "y_5=1\n",
            "y_6=1\n",
            "f_in_1=1.000\n",
            "f_in_2=1.000\n",
            "f_in_3=1.000\n",
            "f_in_4=1.000\n",
            "f_in_5=1.000\n",
            "f_in_6=1.000\n",
            "f_out_0=1.000\n",
            "f_out_1=1.000\n",
            "f_out_2=1.000\n",
            "f_out_3=1.000\n",
            "f_out_4=1.000\n",
            "f_out_5=1.000\n",
            "\n"
          ]
        }
      ]
    },
    {
      "cell_type": "code",
      "source": [
        "print(solution.solve_details)"
      ],
      "metadata": {
        "colab": {
          "base_uri": "https://localhost:8080/"
        },
        "id": "KA6R-BK4AZWu",
        "outputId": "a73e7095-0304-4c5c-a678-76fe8fdb7a19"
      },
      "execution_count": null,
      "outputs": [
        {
          "output_type": "stream",
          "name": "stdout",
          "text": [
            "status  = integer optimal solution\n",
            "time    = 0.0360782 s.\n",
            "problem = MILP\n",
            "gap     = 0%\n",
            "\n"
          ]
        }
      ]
    },
    {
      "cell_type": "code",
      "source": [
        "solution.get_value_dict(y)"
      ],
      "metadata": {
        "colab": {
          "base_uri": "https://localhost:8080/"
        },
        "id": "PE-hsMJ79Tkp",
        "outputId": "5d6f09ff-b609-4db8-b738-35cc1c3fc074"
      },
      "execution_count": 61,
      "outputs": [
        {
          "output_type": "execute_result",
          "data": {
            "text/plain": [
              "{0: 1.0, 1: 1.0, 2: 1.0, 3: 0, 4: 1.0, 5: 1.0, 6: 1.0, 7: 0}"
            ]
          },
          "metadata": {},
          "execution_count": 61
        }
      ]
    },
    {
      "cell_type": "code",
      "source": [
        "solution.get_value_dict(f_in)"
      ],
      "metadata": {
        "colab": {
          "base_uri": "https://localhost:8080/"
        },
        "id": "ren_uH-5AWMy",
        "outputId": "18ba1798-f20c-46cc-a53a-9ff8aa4f874b"
      },
      "execution_count": 62,
      "outputs": [
        {
          "output_type": "execute_result",
          "data": {
            "text/plain": [
              "{0: 0, 1: 1.0, 2: 1.0, 3: 1.0, 4: 1.0, 5: 1.0, 6: 1.0, 7: 0}"
            ]
          },
          "metadata": {},
          "execution_count": 62
        }
      ]
    },
    {
      "cell_type": "code",
      "source": [
        "solution.get_value_dict(f_out)"
      ],
      "metadata": {
        "colab": {
          "base_uri": "https://localhost:8080/"
        },
        "id": "h-CTQHr1AZsj",
        "outputId": "20a38df4-7f20-4008-8e89-3b85f8658b96"
      },
      "execution_count": 63,
      "outputs": [
        {
          "output_type": "execute_result",
          "data": {
            "text/plain": [
              "{0: 1.0, 1: 1.0, 2: 1.0, 3: 1.0, 4: 1.0, 5: 1.0, 6: 0, 7: 0}"
            ]
          },
          "metadata": {},
          "execution_count": 63
        }
      ]
    },
    {
      "cell_type": "code",
      "source": [
        "def get_edges(y):\n",
        "  res = []\n",
        "  for i in y:\n",
        "    if(y[i] != 0):\n",
        "      res.append(i)\n",
        "  \n",
        "  return set(res)\n",
        "\n",
        "\n",
        "def get_vertex(f_in, f_out, edges, V):\n",
        "\n",
        "  V_copy = []\n",
        "  chains = []\n",
        "  cycles = []\n",
        "\n",
        "  '''\n",
        "  # Eliminiamo tutti i vertici non utilizzati nella soluzione\n",
        "  for i,v in enumerate(V):\n",
        "    if f_in[i] != 0 or f_out[i] != 0:\n",
        "      V_copy.append(v)\n",
        "  '''\n",
        "\n",
        "  # Eliminiamo tutti i vertici non utilizzati nella soluzione\n",
        "  for i,v in enumerate(V):\n",
        "    if f_in[i] != 0 or f_out[i] != 0:\n",
        "      # Calcoliamo l'intersezione tra l'insieme degli edges entranti nel nodo v\n",
        "      # e l'insieme degli edges usati nella soluzione\n",
        "      aux_set = edges.intersection(set(v.delta_in))\n",
        "      # Aggiorniamo la lista degli edges entranti nel nodo v\n",
        "      v_aux_delta_in = list(aux_set)\n",
        "\n",
        "      # Calcoliamo l'intersezione tra l'insieme degli edges uscenti dal nodo v\n",
        "      # e l'insieme degli edges usati nella soluzione\n",
        "      aux_set = edges.intersection(set(v.delta_out))\n",
        "      # Aggiorniamo la lista degli edges uscenti dal nodo v\n",
        "      v_aux_delta_out = list(aux_set)\n",
        "\n",
        "      # Creiamo una copia del vertice usato nella soluzione trovata\n",
        "      V_copy.append(Vertex(v.tp, v_aux_delta_in, v_aux_delta_out))\n",
        "\n",
        "  print(len(V_copy))\n",
        "  i = 0\n",
        "  aux = []\n",
        "\n",
        "  # Controlliamo tutti i vertici della soluzione\n",
        "  while len(V_copy) > 0:\n",
        "    \n",
        "    # Controlliamo se il vertice corrente ha un flusso uscente\n",
        "    if len(V_copy[i].delta_out) > 0:\n",
        "      # Salviamo una copia dell'edge uscente dal vertice corrente\n",
        "      edge_out = V_copy[i].delta_out[0]\n",
        "      # Aggiungiamo il vertice corrente ad una lista temporanea\n",
        "      aux.append(V_copy[i])\n",
        "\n",
        "      vertex_found = False\n",
        "      # Cerchiamo nella lista il vertice successivo al vertice attuale\n",
        "      for j,v in enumerate(V_copy):\n",
        "        if j != i:\n",
        "          if len(v.delta_in) > 0:\n",
        "\n",
        "            # Controlliamo se l'edge uscente dal nodo j-esimo è uguale\n",
        "            # all'edge entrante nel vertice attuale\n",
        "            if v.delta_in[0] == edge_out:\n",
        "\n",
        "              # Rimuoviamo il vertice attuale dalla lista dei vertici\n",
        "              del V_copy[i]\n",
        "              vertex_found = True\n",
        "              # Aggiorniamo l'indice del vertice attuale\n",
        "              i = V_copy.index(v)\n",
        "              break\n",
        "      \n",
        "      # Se non è stato trovato il vertice successivo al vertice attuale,\n",
        "      # questo è l'utimo vertice di un ciclo\n",
        "      if not vertex_found:\n",
        "        cycles.append(aux)\n",
        "        aux = []\n",
        "        del V_copy[i]\n",
        "        i = 0\n",
        "\n",
        "    # Se il vertice corrente non ha un flusso uscente, questo è l'ultimo vertice\n",
        "    # di una catena\n",
        "    else:\n",
        "      # Controlliamo se il vertice attuale non è il primo della lista temporanea\n",
        "      if len(aux) > 0:\n",
        "        aux.append(V_copy[i])\n",
        "        chains.append(aux)\n",
        "        aux = []\n",
        "        del V_copy[i]\n",
        "        i = 0\n",
        "  \n",
        "  return chains, cycles"
      ],
      "metadata": {
        "id": "G008wdbcZrma"
      },
      "execution_count": 64,
      "outputs": []
    },
    {
      "cell_type": "code",
      "source": [
        "def get_all_cycles(V):\n",
        "  cycles = []\n",
        "  aux = []\n",
        "  V_copy = V\n",
        "\n",
        "  first_vertex = V_copy[0]\n",
        "  for i,v in enumerate(V_copy):\n",
        "    for j in v.delta_out:\n",
        "      for k,_ in enumerate(V_copy):\n",
        "        if i != k:\n",
        "          if v.delta_out[j] in V_copy[k].delta_in:\n",
        "            if len(V_copy[k].delta_out) > 0:\n",
        "              aux.append(v.delta_out[j])\n",
        "              del V_copy[k].delta_in[V_copy[k].delta_in.index(v.delta_out[j])]\n",
        "              del V_copy[i].delta_out[j]\n",
        "            else:\n",
        "              del V_copy[k]"
      ],
      "metadata": {
        "id": "TUterL8w1vss"
      },
      "execution_count": null,
      "outputs": []
    },
    {
      "cell_type": "code",
      "source": [
        "edges = get_edges(solution.get_value_dict(y))\n",
        "print(edges)"
      ],
      "metadata": {
        "colab": {
          "base_uri": "https://localhost:8080/"
        },
        "id": "pyAK69IphqMZ",
        "outputId": "c33115cc-7ef6-427d-91fd-db2e4512adc0"
      },
      "execution_count": 65,
      "outputs": [
        {
          "output_type": "stream",
          "name": "stdout",
          "text": [
            "{0, 1, 2, 4, 5, 6}\n"
          ]
        }
      ]
    },
    {
      "cell_type": "code",
      "source": [
        "chains, cycles = get_vertex(solution.get_value_dict(f_in), solution.get_value_dict(f_out), edges, V)"
      ],
      "metadata": {
        "colab": {
          "base_uri": "https://localhost:8080/"
        },
        "id": "G4hGHWuYh29I",
        "outputId": "029cf30c-28ac-4435-9c64-49685a63afae"
      },
      "execution_count": 66,
      "outputs": [
        {
          "output_type": "stream",
          "name": "stdout",
          "text": [
            "7\n"
          ]
        }
      ]
    },
    {
      "cell_type": "code",
      "source": [
        "for c in chains[0]:\n",
        "  print(str(c.tp) + \" \" + str(c.delta_in) + \" \" + str(c.delta_out))"
      ],
      "metadata": {
        "colab": {
          "base_uri": "https://localhost:8080/"
        },
        "id": "wKOuO39-kFPs",
        "outputId": "89faa05a-72aa-4469-d8f4-0656bc5a60b9"
      },
      "execution_count": 68,
      "outputs": [
        {
          "output_type": "stream",
          "name": "stdout",
          "text": [
            "Type.AD [] [0]\n",
            "Type.P [0] [1]\n",
            "Type.P [1] [2]\n",
            "Type.P [2] [4]\n",
            "Type.B [4] []\n"
          ]
        }
      ]
    },
    {
      "cell_type": "code",
      "source": [
        "for c in cycles[0]:\n",
        "  print(str(c.tp) + \" \" + str(c.delta_in) + \" \" + str(c.delta_out))"
      ],
      "metadata": {
        "colab": {
          "base_uri": "https://localhost:8080/"
        },
        "id": "rCu3bflztJ6V",
        "outputId": "43ee8ecb-97fa-425b-a4ad-44ca7b8fc66c"
      },
      "execution_count": 69,
      "outputs": [
        {
          "output_type": "stream",
          "name": "stdout",
          "text": [
            "Type.P [5] [6]\n",
            "Type.P [6] [5]\n"
          ]
        }
      ]
    }
  ]
}