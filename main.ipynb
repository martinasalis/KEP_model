{
  "nbformat": 4,
  "nbformat_minor": 0,
  "metadata": {
    "colab": {
      "name": "main.ipynb",
      "provenance": [],
      "authorship_tag": "ABX9TyMBLcr/AXHqGPPtLbl/Ub7d"
    },
    "kernelspec": {
      "name": "python3",
      "display_name": "Python 3"
    },
    "language_info": {
      "name": "python"
    }
  },
  "cells": [
    {
      "cell_type": "code",
      "execution_count": 4,
      "metadata": {
        "id": "_jHMTvbMhfpU",
        "colab": {
          "base_uri": "https://localhost:8080/"
        },
        "outputId": "13ed1f16-058c-422b-c2a5-2ece5e9d739f"
      },
      "outputs": [
        {
          "output_type": "stream",
          "name": "stdout",
          "text": [
            "Requirement already satisfied: docplex in /usr/local/lib/python3.7/dist-packages (2.22.213)\n",
            "Requirement already satisfied: cplex in /usr/local/lib/python3.7/dist-packages (20.1.0.3)\n",
            "Requirement already satisfied: six in /usr/local/lib/python3.7/dist-packages (from docplex) (1.15.0)\n"
          ]
        }
      ],
      "source": [
        "!pip install docplex cplex"
      ]
    },
    {
      "cell_type": "code",
      "source": [
        "#Importing cplex API\n",
        "import sys\n",
        "import cplex\n",
        "import docplex.cp\n",
        "\n",
        "#Importing numpy and random generator\n",
        "import numpy as np\n",
        "rand = np.random\n",
        "\n",
        "#Importing pyplot\n",
        "import matplotlib.pyplot as plt\n",
        "\n",
        "#Importing docplex model\n",
        "from docplex.mp.model import Model\n",
        "import itertools\n",
        "\n",
        "#Imports\n",
        "from enum import Enum\n",
        "from cplex.callbacks import UserCutCallback, LazyConstraintCallback"
      ],
      "metadata": {
        "id": "HcIdtwETi35V"
      },
      "execution_count": 5,
      "outputs": []
    },
    {
      "cell_type": "code",
      "source": [
        "class LazyCallback(LazyConstraintCallback):\n",
        "    \"\"\"Lazy constraint callback to enforce the capacity constraints.\n",
        "\n",
        "    If used then the callback is invoked for every integer feasible\n",
        "    solution CPLEX finds. For each location j it checks whether\n",
        "    constraint\n",
        "\n",
        "    sum(c in C) supply[c][j] <= (|C| - 1) * used[j]\n",
        "    sum(e in C) y[e] <= (|C| - 1)\n",
        "\n",
        "    is satisfied. If not then it adds the violated constraint as lazy\n",
        "    constraint.\n",
        "    \"\"\"\n",
        "\n",
        "    # Callback constructor. Fields 'locations', 'clients', 'used', 'supply'\n",
        "    # are set externally after registering the callback.\n",
        "    def __init__(self, env):\n",
        "      super().__init__(env)\n",
        "\n",
        "    def __call__(self):\n",
        "      \n",
        "\n",
        "        for j in C:\n",
        "            served = sum(self.get_values(\n",
        "                [self.y[e] for e in self.C]))\n",
        "            if served > (len(self.C) - 1.0):\n",
        "                print('Adding lazy constraint %s <= %d' %\n",
        "                      (' + '.join(['y(%d)' % (x) for x in self.C]),\n",
        "                       len(self.clients) - 1))\n",
        "                self.add(constraint=cplex.SparsePair(\n",
        "                    [self.supply[c][j] for c in self.clients] + [self.used[j]],\n",
        "                    [1.0] * len(self.clients) + [-(len(self.clients) - 1)]),\n",
        "                    sense='L',\n",
        "                    rhs=0.0)"
      ],
      "metadata": {
        "id": "53g_jXBSu0_B"
      },
      "execution_count": null,
      "outputs": []
    },
    {
      "cell_type": "code",
      "source": [
        "class Type(Enum):\n",
        "  AD = 1\n",
        "  B = 2\n",
        "  P = 3\n",
        "\n",
        "\n",
        "class Vertex:\n",
        "  def __init__(self, tp, delta):\n",
        "    self.tp = tp\n",
        "    # (delta_in, delta_out) -> delta_in = minus / delta_out = plus\n",
        "    self.delta = delta"
      ],
      "metadata": {
        "id": "smKPG0TQmBDy"
      },
      "execution_count": 9,
      "outputs": []
    },
    {
      "cell_type": "code",
      "source": [
        "E = [\"E1\", \"E2\", \"E3\", \"E4\", \"E5\", \"E6\", \"E7\", \"E8\"]  # Edges\n",
        "#N = [i for i in range(1, 9)]                   # stazioni senza deposito\n",
        "#E = [i for i in N]\n",
        "V = []  # Vertex\n",
        "w = [1, 1, 1, 1, 1, 1, 1, 1]  # Weigths"
      ],
      "metadata": {
        "id": "yJCiEDRej3Ta"
      },
      "execution_count": 72,
      "outputs": []
    },
    {
      "cell_type": "code",
      "source": [
        "V.append(Vertex(tp=Type.AD, delta=([],[\"E1\"])))\n",
        "V.append(Vertex(tp=Type.P, delta=([\"E1\"],[\"E2\"])))\n",
        "V.append(Vertex(tp=Type.P, delta=([\"E2\"],[\"E3\", \"E4\"])))\n",
        "V.append(Vertex(tp=Type.P, delta=([\"E3\"],[\"E5\"])))\n",
        "V.append(Vertex(tp=Type.P, delta=([\"E4\", \"E6\"],[\"E7\"])))\n",
        "V.append(Vertex(tp=Type.P, delta=([\"E7\"],[\"E6\", \"E8\"])))\n",
        "V.append(Vertex(tp=Type.B, delta=([\"E5\"],[])))\n",
        "V.append(Vertex(tp=Type.B, delta=([\"E8\"],[])))"
      ],
      "metadata": {
        "id": "QMGHtKTg_gP9"
      },
      "execution_count": 73,
      "outputs": []
    },
    {
      "cell_type": "code",
      "source": [
        "# Model\n",
        "model = Model('KEP_model')\n",
        "\n",
        "# Decision variables\n",
        "y = model.binary_var_dict(len(E), name='y')\n",
        "f_in = model.continuous_var_dict(len(V), name='f_in')\n",
        "f_out = model.continuous_var_dict(len(V), name='f_out')"
      ],
      "metadata": {
        "id": "nWcSjRU1jASU"
      },
      "execution_count": 74,
      "outputs": []
    },
    {
      "cell_type": "code",
      "source": [
        "#Function to minimize\n",
        "model.maximize(model.sum(w[e] * y[e] for e,_ in enumerate(E)))"
      ],
      "metadata": {
        "id": "mkoO5aZFulvA"
      },
      "execution_count": 75,
      "outputs": []
    },
    {
      "cell_type": "code",
      "source": [
        "#Constraints\n",
        "model.add_constraints(model.sum(y[e] for e,_ in enumerate(V[v].delta[0])) == f_in[v] for v,_ in enumerate(V))\n",
        "model.add_constraints(model.sum(y[e] for e,_ in enumerate(V[v].delta[1])) == f_out[v] for v,_ in enumerate(V))\n",
        "model.add_constraints(f_out[v] <= f_in[v] for v,_ in enumerate(V) if V[v].tp == Type.P)\n",
        "model.add_constraints(f_in[v] <= 1 for v,_ in enumerate(V) if V[v].tp == Type.P)\n",
        "model.add_constraints(f_out[v] <= 1 for v,_ in enumerate(V) if (V[v].tp == Type.AD or V[v].tp == Type.B))"
      ],
      "metadata": {
        "id": "mE9UpKgijIOX",
        "colab": {
          "base_uri": "https://localhost:8080/"
        },
        "outputId": "069feec1-3de0-4edf-8f87-22034710da84"
      },
      "execution_count": 76,
      "outputs": [
        {
          "output_type": "execute_result",
          "data": {
            "text/plain": [
              "[docplex.mp.LinearConstraint[](f_out_0,LE,1),\n",
              " docplex.mp.LinearConstraint[](f_out_6,LE,1),\n",
              " docplex.mp.LinearConstraint[](f_out_7,LE,1)]"
            ]
          },
          "metadata": {},
          "execution_count": 76
        }
      ]
    },
    {
      "cell_type": "code",
      "source": [
        "solution = model.solve(log_output=True)\n",
        "model.solve(log_output=True)"
      ],
      "metadata": {
        "id": "tDj32RThujIM",
        "colab": {
          "base_uri": "https://localhost:8080/"
        },
        "outputId": "81056544-d363-484c-9bdb-707dd5617d47"
      },
      "execution_count": 77,
      "outputs": [
        {
          "output_type": "stream",
          "name": "stdout",
          "text": [
            "Version identifier: 20.1.0.1 | 2021-12-07 | 9dfdf6686\n",
            "CPXPARAM_Read_DataCheck                          1\n",
            "Found incumbent of value 0.000000 after 0.00 sec. (0.00 ticks)\n",
            "Tried aggregator 2 times.\n",
            "MIP Presolve eliminated 20 rows and 15 columns.\n",
            "Aggregator did 9 substitutions.\n",
            "All rows and columns eliminated.\n",
            "Presolve time = 0.01 sec. (0.03 ticks)\n",
            "\n",
            "Root node processing (before b&c):\n",
            "  Real time             =    0.02 sec. (0.03 ticks)\n",
            "Parallel b&c, 2 threads:\n",
            "  Real time             =    0.00 sec. (0.00 ticks)\n",
            "  Sync time (average)   =    0.00 sec.\n",
            "  Wait time (average)   =    0.00 sec.\n",
            "                          ------------\n",
            "Total (root+branch&cut) =    0.02 sec. (0.03 ticks)\n",
            "Version identifier: 20.1.0.1 | 2021-12-07 | 9dfdf6686\n",
            "CPXPARAM_Read_DataCheck                          1\n",
            "\n",
            "Root node processing (before b&c):\n",
            "  Real time             =    0.00 sec. (0.00 ticks)\n",
            "Parallel b&c, 2 threads:\n",
            "  Real time             =    0.00 sec. (0.00 ticks)\n",
            "  Sync time (average)   =    0.00 sec.\n",
            "  Wait time (average)   =    0.00 sec.\n",
            "                          ------------\n",
            "Total (root+branch&cut) =    0.00 sec. (0.00 ticks)\n"
          ]
        },
        {
          "output_type": "execute_result",
          "data": {
            "text/plain": [
              "docplex.mp.solution.SolveSolution(obj=7,values={y_0:1,y_2:1,y_3:1,y_4:1,.."
            ]
          },
          "metadata": {},
          "execution_count": 77
        }
      ]
    },
    {
      "cell_type": "code",
      "source": [
        "print(solution)"
      ],
      "metadata": {
        "colab": {
          "base_uri": "https://localhost:8080/"
        },
        "id": "fUYe6ctMLX2b",
        "outputId": "e5a14f26-e96f-47ce-e77b-1ac247a61408"
      },
      "execution_count": 78,
      "outputs": [
        {
          "output_type": "stream",
          "name": "stdout",
          "text": [
            "solution for: KEP_model\n",
            "objective: 7\n",
            "y_0=1\n",
            "y_2=1\n",
            "y_3=1\n",
            "y_4=1\n",
            "y_5=1\n",
            "y_6=1\n",
            "y_7=1\n",
            "f_in_1=1.000\n",
            "f_in_2=1.000\n",
            "f_in_3=1.000\n",
            "f_in_4=1.000\n",
            "f_in_5=1.000\n",
            "f_in_6=1.000\n",
            "f_in_7=1.000\n",
            "f_out_0=1.000\n",
            "f_out_1=1.000\n",
            "f_out_2=1.000\n",
            "f_out_3=1.000\n",
            "f_out_4=1.000\n",
            "f_out_5=1.000\n",
            "\n"
          ]
        }
      ]
    }
  ]
}