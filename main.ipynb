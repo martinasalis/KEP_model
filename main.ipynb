{
  "nbformat": 4,
  "nbformat_minor": 0,
  "metadata": {
    "colab": {
      "name": "main.ipynb",
      "provenance": [],
      "authorship_tag": "ABX9TyMELZIO71r4jjlE88pFMj5D"
    },
    "kernelspec": {
      "name": "python3",
      "display_name": "Python 3"
    },
    "language_info": {
      "name": "python"
    }
  },
  "cells": [
    {
      "cell_type": "code",
      "execution_count": 1,
      "metadata": {
        "id": "_jHMTvbMhfpU",
        "colab": {
          "base_uri": "https://localhost:8080/"
        },
        "outputId": "7f5b3273-1b8e-49bb-b367-9a651ca77819"
      },
      "outputs": [
        {
          "output_type": "stream",
          "name": "stdout",
          "text": [
            "Collecting docplex\n",
            "  Downloading docplex-2.22.213.tar.gz (634 kB)\n",
            "\u001b[K     |████████████████████████████████| 634 kB 5.0 MB/s \n",
            "\u001b[?25hCollecting cplex\n",
            "  Downloading cplex-20.1.0.3-cp37-cp37m-manylinux1_x86_64.whl (30.9 MB)\n",
            "\u001b[K     |████████████████████████████████| 30.9 MB 1.3 MB/s \n",
            "\u001b[?25hRequirement already satisfied: six in /usr/local/lib/python3.7/dist-packages (from docplex) (1.15.0)\n",
            "Building wheels for collected packages: docplex\n",
            "  Building wheel for docplex (setup.py) ... \u001b[?25l\u001b[?25hdone\n",
            "  Created wheel for docplex: filename=docplex-2.22.213-py3-none-any.whl size=696882 sha256=63b5e318d8ccb39352d6bbd22043cc0816012068312b4d63c7034aef58b95dc0\n",
            "  Stored in directory: /root/.cache/pip/wheels/90/69/6b/1375c68a5b7ff94c40263b151c86f58bd72200bf0c465b5ba3\n",
            "Successfully built docplex\n",
            "Installing collected packages: docplex, cplex\n",
            "Successfully installed cplex-20.1.0.3 docplex-2.22.213\n"
          ]
        }
      ],
      "source": [
        "!pip install docplex cplex"
      ]
    },
    {
      "cell_type": "code",
      "source": [
        "#Importing cplex API\n",
        "import sys\n",
        "import cplex\n",
        "import docplex.cp\n",
        "\n",
        "#Importing numpy and random generator\n",
        "import numpy as np\n",
        "rand = np.random\n",
        "\n",
        "#Importing pyplot\n",
        "import matplotlib.pyplot as plt\n",
        "\n",
        "#Importing docplex model\n",
        "from docplex.mp.model import Model\n",
        "import itertools\n",
        "\n",
        "#Imports\n",
        "from enum import Enum\n",
        "from cplex.callbacks import UserCutCallback, LazyConstraintCallback\n",
        "from docplex.mp.callbacks.cb_mixin import *\n",
        "import networkx as nx"
      ],
      "metadata": {
        "id": "HcIdtwETi35V"
      },
      "execution_count": 357,
      "outputs": []
    },
    {
      "cell_type": "markdown",
      "source": [
        "**Definizione classi**"
      ],
      "metadata": {
        "id": "Au_wlZLZJ9zD"
      }
    },
    {
      "cell_type": "markdown",
      "source": [
        "Definizione lazy constraints"
      ],
      "metadata": {
        "id": "xePEv3T0J6WR"
      }
    },
    {
      "cell_type": "code",
      "source": [
        "class LazyCallback(ConstraintCallbackMixin, LazyConstraintCallback):\n",
        "  def __init__(self, env):\n",
        "    LazyConstraintCallback.__init__(self, env)\n",
        "    ConstraintCallbackMixin.__init__(self)\n",
        "\n",
        "  def __call__(self):\n",
        "    try:\n",
        "      # Controlliamo tutti i cicli maggiori di k\n",
        "      for c in self.C:\n",
        "        # Salviamo la soluzione trovata senza l'uso di lazy constraints\n",
        "        y_sol = self.make_complete_solution().get_value_dict(self.y)\n",
        "        # Controlliamo se il ciclo fa parte della soluzione trovata\n",
        "        served = sum([y_sol[e] for e in c])\n",
        "\n",
        "        if not (served <= ((len(c) - 1))):\n",
        "          print('Adding lazy constraint %s <= %d' % \n",
        "                (' + '.join(['y(%d)' % (x) for x in c]), len(c) - 1))\n",
        "          # Aggiungiamo la matrice con il vincolo relativo al ciclo nel modello\n",
        "          self.add(constraint=cplex.SparsePair(ind=[x for x in c],\n",
        "                                               val=[y_sol[e] for e in c]), \n",
        "                  sense='L', \n",
        "                  rhs=(len(c) - 1))\n",
        "          \n",
        "    except:\n",
        "      print(sys.exc_info()[0])\n",
        "      raise"
      ],
      "metadata": {
        "id": "53g_jXBSu0_B"
      },
      "execution_count": 428,
      "outputs": []
    },
    {
      "cell_type": "markdown",
      "source": [
        "Definizione vertice"
      ],
      "metadata": {
        "id": "9rQmukVKJwOT"
      }
    },
    {
      "cell_type": "code",
      "source": [
        "class Type(Enum):\n",
        "  AD = 1\n",
        "  B = 2\n",
        "  P = 3\n",
        "\n",
        "\n",
        "class Vertex:\n",
        "  def __init__(self, tp, delta_in, delta_out):\n",
        "    self.tp = tp\n",
        "\n",
        "    # delta_in = minus\n",
        "    self.delta_in = delta_in\n",
        "    \n",
        "    # delta_out = plus\n",
        "    self.delta_out = delta_out"
      ],
      "metadata": {
        "id": "smKPG0TQmBDy"
      },
      "execution_count": 360,
      "outputs": []
    },
    {
      "cell_type": "markdown",
      "source": [
        "**Definizione funzioni**"
      ],
      "metadata": {
        "id": "eW-o_O6vKDSn"
      }
    },
    {
      "cell_type": "markdown",
      "source": [
        "Funzioni di stampa del risultato"
      ],
      "metadata": {
        "id": "k4Dv1uBIJpJf"
      }
    },
    {
      "cell_type": "code",
      "source": [
        "def get_edges(y):\n",
        "  res = []\n",
        "  for i in y:\n",
        "    if(y[i] != 0):\n",
        "      res.append(i)\n",
        "  \n",
        "  return set(res)\n",
        "\n",
        "\n",
        "def get_vertex(f_in, f_out, edges, V):\n",
        "\n",
        "  V_copy = []\n",
        "  chains = []\n",
        "  cycles = []\n",
        "\n",
        "  # Eliminiamo tutti i vertici non utilizzati nella soluzione\n",
        "  for i,v in enumerate(V):\n",
        "    if f_in[i] != 0 or f_out[i] != 0:\n",
        "      # Calcoliamo l'intersezione tra l'insieme degli edges entranti nel nodo v\n",
        "      # e l'insieme degli edges usati nella soluzione\n",
        "      aux_set = edges.intersection(set(v.delta_in))\n",
        "      # Aggiorniamo la lista degli edges entranti nel nodo v\n",
        "      v_aux_delta_in = list(aux_set)\n",
        "\n",
        "      # Calcoliamo l'intersezione tra l'insieme degli edges uscenti dal nodo v\n",
        "      # e l'insieme degli edges usati nella soluzione\n",
        "      aux_set = edges.intersection(set(v.delta_out))\n",
        "      # Aggiorniamo la lista degli edges uscenti dal nodo v\n",
        "      v_aux_delta_out = list(aux_set)\n",
        "\n",
        "      # Creiamo una copia del vertice usato nella soluzione trovata\n",
        "      V_copy.append(Vertex(v.tp, v_aux_delta_in, v_aux_delta_out))\n",
        "\n",
        "  print(len(V_copy))\n",
        "  i = 0\n",
        "  aux = []\n",
        "\n",
        "  # Controlliamo tutti i vertici della soluzione\n",
        "  while len(V_copy) > 0:\n",
        "    \n",
        "    # Controlliamo se il vertice corrente ha un flusso uscente\n",
        "    if len(V_copy[i].delta_out) > 0:\n",
        "      # Salviamo una copia dell'edge uscente dal vertice corrente\n",
        "      edge_out = V_copy[i].delta_out[0]\n",
        "      # Aggiungiamo il vertice corrente ad una lista temporanea\n",
        "      aux.append(V_copy[i])\n",
        "\n",
        "      vertex_found = False\n",
        "      # Cerchiamo nella lista il vertice successivo al vertice attuale\n",
        "      for j,v in enumerate(V_copy):\n",
        "        if j != i:\n",
        "          if len(v.delta_in) > 0:\n",
        "\n",
        "            # Controlliamo se l'edge uscente dal nodo j-esimo è uguale\n",
        "            # all'edge entrante nel vertice attuale\n",
        "            if v.delta_in[0] == edge_out:\n",
        "\n",
        "              # Rimuoviamo il vertice attuale dalla lista dei vertici\n",
        "              del V_copy[i]\n",
        "              vertex_found = True\n",
        "              # Aggiorniamo l'indice del vertice attuale\n",
        "              i = V_copy.index(v)\n",
        "              break\n",
        "      \n",
        "      # Se non è stato trovato il vertice successivo al vertice attuale,\n",
        "      # questo è l'utimo vertice di un ciclo\n",
        "      if not vertex_found:\n",
        "        cycles.append(aux)\n",
        "        aux = []\n",
        "        del V_copy[i]\n",
        "        i = 0\n",
        "\n",
        "    # Se il vertice corrente non ha un flusso uscente, questo è l'ultimo vertice\n",
        "    # di una catena\n",
        "    else:\n",
        "      # Controlliamo se il vertice attuale non è il primo della lista temporanea\n",
        "      if len(aux) > 0:\n",
        "        aux.append(V_copy[i])\n",
        "        chains.append(aux)\n",
        "        aux = []\n",
        "        del V_copy[i]\n",
        "        i = 0\n",
        "  \n",
        "  return chains, cycles"
      ],
      "metadata": {
        "id": "G008wdbcZrma"
      },
      "execution_count": 425,
      "outputs": []
    },
    {
      "cell_type": "markdown",
      "source": [
        "**Esempio 1**"
      ],
      "metadata": {
        "id": "cZMl8j-YEiQp"
      }
    },
    {
      "cell_type": "code",
      "source": [
        "E = [i for i in range(0, 8)]    # Edges\n",
        "V = []  # Vertex\n",
        "w = [1 for i in range(0, 8)]  # Weigths\n",
        "k = 3"
      ],
      "metadata": {
        "id": "YoUBmlQVEy-G"
      },
      "execution_count": 54,
      "outputs": []
    },
    {
      "cell_type": "code",
      "source": [
        "V.append(Vertex(tp=Type.AD, delta_in=[], delta_out=[0])) # 0\n",
        "V.append(Vertex(tp=Type.P, delta_in=[0], delta_out=[1])) # 1\n",
        "V.append(Vertex(tp=Type.P, delta_in=[1], delta_out=[2, 3])) # 2\n",
        "V.append(Vertex(tp=Type.P, delta_in=[2], delta_out=[4])) # 3\n",
        "V.append(Vertex(tp=Type.P, delta_in=[3, 5], delta_out=[6])) # 4\n",
        "V.append(Vertex(tp=Type.P, delta_in=[6], delta_out=[5, 7])) # 5\n",
        "V.append(Vertex(tp=Type.B, delta_in=[4], delta_out=[])) # 6\n",
        "V.append(Vertex(tp=Type.B, delta_in=[7], delta_out=[])) # 7"
      ],
      "metadata": {
        "id": "mSueYPfEEgpz"
      },
      "execution_count": 55,
      "outputs": []
    },
    {
      "cell_type": "markdown",
      "source": [
        "Stampa grafo"
      ],
      "metadata": {
        "id": "_4i6biAqJVuN"
      }
    },
    {
      "cell_type": "code",
      "source": [
        "G = nx.DiGraph()\n",
        "G.add_edges_from([(0, 1), (1, 2), (2, 3), (2, 4), (3, 6), \n",
        "                  (4, 5), (5, 4), (5, 7)])\n",
        "  \n",
        "plt.figure(figsize =(9, 9))\n",
        "\n",
        "nx.draw_networkx(G, with_labels = True, node_color ='green')"
      ],
      "metadata": {
        "colab": {
          "base_uri": "https://localhost:8080/",
          "height": 520
        },
        "id": "g_uG_99BDa_J",
        "outputId": "9fa842f7-911f-475f-d601-37a343717129"
      },
      "execution_count": 12,
      "outputs": [
        {
          "output_type": "display_data",
          "data": {
            "image/png": "[encoded data removed]",
            "text/plain": [
              "<Figure size 648x648 with 1 Axes>"
            ]
          },
          "metadata": {}
        }
      ]
    },
    {
      "cell_type": "markdown",
      "source": [
        "**Esempio 2**"
      ],
      "metadata": {
        "id": "uR-ch9lQ4bTQ"
      }
    },
    {
      "cell_type": "markdown",
      "source": [
        "Stampa grafo"
      ],
      "metadata": {
        "id": "W06HFLHH4eKo"
      }
    },
    {
      "cell_type": "code",
      "source": [
        "E = [i for i in range(0, 13)]    # Edges\n",
        "V = []  # Vertex\n",
        "w = [1 for i in range(0, 13)]  # Weigths\n",
        "k = 3"
      ],
      "metadata": {
        "id": "5ETGEMZi58hx"
      },
      "execution_count": 390,
      "outputs": []
    },
    {
      "cell_type": "code",
      "source": [
        "V.append(Vertex(tp=Type.P, delta_in=[6, 4, 12], delta_out=[0])) # 0\n",
        "V.append(Vertex(tp=Type.P, delta_in=[0], delta_out=[1])) # 1\n",
        "V.append(Vertex(tp=Type.P, delta_in=[1], delta_out=[2, 12])) # 2\n",
        "V.append(Vertex(tp=Type.P, delta_in=[5], delta_out=[6])) # 3\n",
        "V.append(Vertex(tp=Type.P, delta_in=[3], delta_out=[4, 5])) # 4\n",
        "V.append(Vertex(tp=Type.P, delta_in=[2], delta_out=[3])) # 5\n",
        "V.append(Vertex(tp=Type.B, delta_in=[7], delta_out=[])) # 6\n",
        "V.append(Vertex(tp=Type.B, delta_in=[9], delta_out=[])) # 7\n",
        "V.append(Vertex(tp=Type.P, delta_in=[8, 11], delta_out=[10])) # 8\n",
        "V.append(Vertex(tp=Type.P, delta_in=[10], delta_out=[11])) # 9"
      ],
      "metadata": {
        "id": "RdoBavSD5-vd"
      },
      "execution_count": 391,
      "outputs": []
    },
    {
      "cell_type": "code",
      "source": [
        "G = nx.DiGraph()\n",
        "G.add_edges_from([(0, 1), (1, 2), (2, 5), (5, 4), (4, 0), (4, 3), (3, 0), \n",
        "                  (3, 6), (5, 8), (4, 7), (8, 9), (9, 8), (2, 0)])\n",
        "  \n",
        "plt.figure(figsize =(12, 12))\n",
        "\n",
        "nx.draw_networkx(G, with_labels = True, node_color ='yellow', node_size = 1000, \n",
        "                 font_size = 14)"
      ],
      "metadata": {
        "colab": {
          "base_uri": "https://localhost:8080/",
          "height": 683
        },
        "id": "grdygBXa4gVT",
        "outputId": "519ed91e-f074-4875-8e10-e95d32bf6f65"
      },
      "execution_count": 392,
      "outputs": [
        {
          "output_type": "display_data",
          "data": {
            "image/png": "[encoded data removed]",
            "text/plain": [
              "<Figure size 864x864 with 1 Axes>"
            ]
          },
          "metadata": {}
        }
      ]
    },
    {
      "cell_type": "markdown",
      "source": [
        "**Definizione modello**"
      ],
      "metadata": {
        "id": "oaSqO-liJBLK"
      }
    },
    {
      "cell_type": "code",
      "source": [
        "# Model\n",
        "model = Model('KEP_model')\n",
        "\n",
        "# Decision variables\n",
        "y = model.binary_var_dict(E, name='y')\n",
        "f_in = model.continuous_var_dict(len(V), name='f_in')\n",
        "f_out = model.continuous_var_dict(len(V), name='f_out')"
      ],
      "metadata": {
        "id": "nWcSjRU1jASU"
      },
      "execution_count": 419,
      "outputs": []
    },
    {
      "cell_type": "code",
      "source": [
        "#Function to minimize\n",
        "model.maximize(model.sum((w[e] * y[e]) for e in E))"
      ],
      "metadata": {
        "id": "mkoO5aZFulvA"
      },
      "execution_count": 420,
      "outputs": []
    },
    {
      "cell_type": "code",
      "source": [
        "#Constraints\n",
        "model.add_constraints(model.sum(y[e] for e in V[v].delta_in) == f_in[v] for v,_ in enumerate(V))\n",
        "model.add_constraints(model.sum(y[e] for e in V[v].delta_out) == f_out[v] for v,_ in enumerate(V))\n",
        "model.add_constraints((f_out[v] <= f_in[v]) for v,_ in enumerate(V) if V[v].tp == Type.P)\n",
        "model.add_constraints((f_in[v] <= 1) for v,_ in enumerate(V) if V[v].tp == Type.P)\n",
        "model.add_constraints((f_out[v] <= 1) for v,_ in enumerate(V) if (V[v].tp == Type.AD or V[v].tp == Type.B))"
      ],
      "metadata": {
        "id": "mE9UpKgijIOX",
        "colab": {
          "base_uri": "https://localhost:8080/"
        },
        "outputId": "a0280897-c029-4232-8c43-139b521f5b48"
      },
      "execution_count": 421,
      "outputs": [
        {
          "output_type": "execute_result",
          "data": {
            "text/plain": [
              "[docplex.mp.LinearConstraint[](f_out_6,LE,1),\n",
              " docplex.mp.LinearConstraint[](f_out_7,LE,1)]"
            ]
          },
          "metadata": {},
          "execution_count": 421
        }
      ]
    },
    {
      "cell_type": "code",
      "source": [
        "def get_cycles_edges(C, V):\n",
        "  edges = []\n",
        "  aux = []\n",
        "\n",
        "  for c in C:\n",
        "    aux = []\n",
        "    \n",
        "    for i,_ in enumerate(c):\n",
        "      if (i + 1) != len(c):\n",
        "        aux.append(list(set(V[c[i]].delta_out).intersection(set(V[c[i + 1]].delta_in)))[0])\n",
        "      \n",
        "      else:\n",
        "        aux.append(list(set(V[c[i]].delta_out).intersection(set(V[c[0]].delta_in)))[0])\n",
        "    \n",
        "    edges.append(aux)\n",
        "\n",
        "  return edges"
      ],
      "metadata": {
        "id": "6bsL8fUnRRhT"
      },
      "execution_count": 368,
      "outputs": []
    },
    {
      "cell_type": "code",
      "source": [
        "all_cycles = list(nx.simple_cycles(G))\n",
        "C = []\n",
        "\n",
        "# Creiamo una lista di tutti i cicli con una lunghezza maggiore di k\n",
        "for c in all_cycles:\n",
        "  if len(c) > k:\n",
        "    C.append(c)\n",
        "\n",
        "C_edges = get_cycles_edges(C, V)\n",
        "\n",
        "if len(C) > 0:\n",
        "  # Aggiungiamo il lazy constraints al modello\n",
        "  clb = model.register_callback(LazyCallback)\n",
        "  clb.C = C_edges\n",
        "  clb.y = y"
      ],
      "metadata": {
        "id": "KAzmYVr4zn99"
      },
      "execution_count": 422,
      "outputs": []
    },
    {
      "cell_type": "markdown",
      "source": [
        "**Soluzione**"
      ],
      "metadata": {
        "id": "znHa34qRJJNH"
      }
    },
    {
      "cell_type": "code",
      "source": [
        "solution = model.solve(log_output=True)\n",
        "model.solve(log_output=True)"
      ],
      "metadata": {
        "id": "tDj32RThujIM",
        "colab": {
          "base_uri": "https://localhost:8080/"
        },
        "outputId": "f8300991-26a2-4124-b727-657e7b716898"
      },
      "execution_count": 423,
      "outputs": [
        {
          "output_type": "stream",
          "name": "stdout",
          "text": [
            "Version identifier: 20.1.0.1 | 2021-12-07 | 9dfdf6686\n",
            "CPXPARAM_Read_DataCheck                          1\n",
            "Legacy callback                                  LD\n",
            "Warning: Control callbacks may disable some MIP features.\n",
            "Lazy constraint(s) or lazy constraint/branch callback is present.\n",
            "    Disabling dual reductions (CPX_PARAM_REDUCE) in presolve.\n",
            "    Disabling presolve reductions that prevent crushing forms (CPX_PARAM_PREREFORM).\n",
            "         Disabling repeat represolve because of lazy constraint/incumbent callback.\n",
            "Tried aggregator 2 times.\n",
            "MIP Presolve eliminated 14 rows and 4 columns.\n",
            "Aggregator did 14 substitutions.\n",
            "Reduced MIP has 10 rows, 15 columns, and 25 nonzeros.\n",
            "Reduced MIP has 13 binaries, 0 generals, 0 SOSs, and 0 indicators.\n",
            "Presolve time = 0.01 sec. (0.04 ticks)\n",
            "Probing changed sense of 6 constraints.\n",
            "Probing time = 0.00 sec. (0.01 ticks)\n",
            "Clique table members: 28.\n",
            "MIP emphasis: balance optimality and feasibility.\n",
            "MIP search method: traditional branch-and-cut.\n",
            "Parallel mode: none, using 1 thread.\n",
            "Root relaxation solution time = 0.00 sec. (0.01 ticks)\n",
            "6.0\n",
            "Adding lazy constraint y(0) + y(1) + y(2) + y(3) + y(5) + y(6) <= 5\n",
            "['y0', 'y1', 'y2', 'y3', 'y5', 'y6']\n",
            "[1.0, 1.0, 1.0, 1.0, 1.0, 1.0]\n",
            "4.0\n",
            "\n",
            "        Nodes                                         Cuts/\n",
            "   Node  Left     Objective  IInf  Best Integer    Best Bound    ItCnt     Gap         Variable B NodeID Parent  Depth\n",
            "\n",
            "      0     0        9.5000     3                     10.0000        2         \n",
            "4.0\n",
            "5.0\n",
            "Adding lazy constraint y(0) + y(1) + y(2) + y(3) + y(4) <= 4\n",
            "['y0', 'y1', 'y2', 'y3', 'y4']\n",
            "[1.0, 1.0, 1.0, 1.0, 1.0]\n",
            "2.0\n",
            "2.0\n",
            "*     0     0      integral     0        7.0000       Cuts: 5        4    0.00%\n",
            "      0     0        cutoff              7.0000        7.0000        4    0.00%                        0             0\n",
            "Elapsed time = 0.05 sec. (0.24 ticks, tree = 0.01 MB, solutions = 1)\n",
            "\n",
            "Gomory fractional cuts applied:  1\n",
            "User cuts applied:  2\n",
            "\n",
            "Root node processing (before b&c):\n",
            "  Real time             =    0.05 sec. (0.24 ticks)\n",
            "Sequential b&c:\n",
            "  Real time             =    0.00 sec. (0.00 ticks)\n",
            "                          ------------\n",
            "Total (root+branch&cut) =    0.05 sec. (0.24 ticks)\n",
            "Version identifier: 20.1.0.1 | 2021-12-07 | 9dfdf6686\n",
            "CPXPARAM_Read_DataCheck                          1\n",
            "Legacy callback                                  LD\n",
            "Warning: Control callbacks may disable some MIP features.\n",
            "Lazy constraint(s) or lazy constraint/branch callback is present.\n",
            "    Disabling dual reductions (CPX_PARAM_REDUCE) in presolve.\n",
            "    Disabling presolve reductions that prevent crushing forms (CPX_PARAM_PREREFORM).\n",
            "         Disabling repeat represolve because of lazy constraint/incumbent callback.\n",
            "\n",
            "Root node processing (before b&c):\n",
            "  Real time             =    0.01 sec. (0.00 ticks)\n",
            "Sequential b&c:\n",
            "  Real time             =    0.00 sec. (0.00 ticks)\n",
            "                          ------------\n",
            "Total (root+branch&cut) =    0.01 sec. (0.00 ticks)\n"
          ]
        },
        {
          "output_type": "execute_result",
          "data": {
            "text/plain": [
              "docplex.mp.solution.SolveSolution(obj=7,values={y_0:1,y_1:1,y_7:1,y_9:1,.."
            ]
          },
          "metadata": {},
          "execution_count": 423
        }
      ]
    },
    {
      "cell_type": "markdown",
      "source": [
        "**Stampa soluzione**"
      ],
      "metadata": {
        "id": "AZlGBHQqKd0s"
      }
    },
    {
      "cell_type": "code",
      "source": [
        "print(solution)"
      ],
      "metadata": {
        "colab": {
          "base_uri": "https://localhost:8080/"
        },
        "id": "fUYe6ctMLX2b",
        "outputId": "1dde991e-7675-4a08-e8c1-54782427f62d"
      },
      "execution_count": 424,
      "outputs": [
        {
          "output_type": "stream",
          "name": "stdout",
          "text": [
            "solution for: KEP_model\n",
            "objective: 7\n",
            "y_0=1\n",
            "y_1=1\n",
            "y_7=1\n",
            "y_9=1\n",
            "y_10=1\n",
            "y_11=1\n",
            "y_12=1\n",
            "f_in_0=1.000\n",
            "f_in_1=1.000\n",
            "f_in_2=1.000\n",
            "f_in_6=1.000\n",
            "f_in_7=1.000\n",
            "f_in_8=1.000\n",
            "f_in_9=1.000\n",
            "f_out_0=1.000\n",
            "f_out_1=1.000\n",
            "f_out_2=1.000\n",
            "f_out_8=1.000\n",
            "f_out_9=1.000\n",
            "\n"
          ]
        }
      ]
    },
    {
      "cell_type": "code",
      "source": [
        "edges = get_edges(solution.get_value_dict(y))\n",
        "print(edges)"
      ],
      "metadata": {
        "colab": {
          "base_uri": "https://localhost:8080/"
        },
        "id": "pyAK69IphqMZ",
        "outputId": "da1ada72-a1a1-4c74-96ba-8e455200dd25"
      },
      "execution_count": 426,
      "outputs": [
        {
          "output_type": "stream",
          "name": "stdout",
          "text": [
            "{0, 1, 7, 9, 10, 11, 12}\n"
          ]
        }
      ]
    },
    {
      "cell_type": "code",
      "source": [
        "chains, cycles = get_vertex(solution.get_value_dict(f_in), solution.get_value_dict(f_out), edges, V)"
      ],
      "metadata": {
        "id": "G4hGHWuYh29I"
      },
      "execution_count": null,
      "outputs": []
    },
    {
      "cell_type": "code",
      "source": [
        "for c in chains[0]:\n",
        "  print(str(c.tp) + \" \" + str(c.delta_in) + \" \" + str(c.delta_out))"
      ],
      "metadata": {
        "colab": {
          "base_uri": "https://localhost:8080/"
        },
        "id": "wKOuO39-kFPs",
        "outputId": "89faa05a-72aa-4469-d8f4-0656bc5a60b9"
      },
      "execution_count": null,
      "outputs": [
        {
          "output_type": "stream",
          "name": "stdout",
          "text": [
            "Type.AD [] [0]\n",
            "Type.P [0] [1]\n",
            "Type.P [1] [2]\n",
            "Type.P [2] [4]\n",
            "Type.B [4] []\n"
          ]
        }
      ]
    },
    {
      "cell_type": "code",
      "source": [
        "for c in cycles[0]:\n",
        "  print(str(c.tp) + \" \" + str(c.delta_in) + \" \" + str(c.delta_out))"
      ],
      "metadata": {
        "colab": {
          "base_uri": "https://localhost:8080/"
        },
        "id": "rCu3bflztJ6V",
        "outputId": "43ee8ecb-97fa-425b-a4ad-44ca7b8fc66c"
      },
      "execution_count": null,
      "outputs": [
        {
          "output_type": "stream",
          "name": "stdout",
          "text": [
            "Type.P [5] [6]\n",
            "Type.P [6] [5]\n"
          ]
        }
      ]
    }
  ]
}