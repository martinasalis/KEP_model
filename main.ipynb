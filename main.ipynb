{
  "nbformat": 4,
  "nbformat_minor": 0,
  "metadata": {
    "colab": {
      "name": "main.ipynb",
      "provenance": [],
      "authorship_tag": "ABX9TyMXJseu9s57RGk/6bZFY8rU"
    },
    "kernelspec": {
      "name": "python3",
      "display_name": "Python 3"
    },
    "language_info": {
      "name": "python"
    }
  },
  "cells": [
    {
      "cell_type": "code",
      "execution_count": 1,
      "metadata": {
        "id": "_jHMTvbMhfpU",
        "colab": {
          "base_uri": "https://localhost:8080/"
        },
        "outputId": "9a749445-ad63-4047-fabf-eed980e82b10"
      },
      "outputs": [
        {
          "output_type": "stream",
          "name": "stdout",
          "text": [
            "Collecting docplex\n",
            "  Downloading docplex-2.22.213.tar.gz (634 kB)\n",
            "\u001b[K     |████████████████████████████████| 634 kB 13.1 MB/s \n",
            "\u001b[?25hCollecting cplex\n",
            "  Downloading cplex-20.1.0.3-cp37-cp37m-manylinux1_x86_64.whl (30.9 MB)\n",
            "\u001b[K     |████████████████████████████████| 30.9 MB 1.3 MB/s \n",
            "\u001b[?25hRequirement already satisfied: six in /usr/local/lib/python3.7/dist-packages (from docplex) (1.15.0)\n",
            "Building wheels for collected packages: docplex\n",
            "  Building wheel for docplex (setup.py) ... \u001b[?25l\u001b[?25hdone\n",
            "  Created wheel for docplex: filename=docplex-2.22.213-py3-none-any.whl size=696882 sha256=4bbc026c5082fb5ac194247dd78fe6d181dd3f8b411f3a5eba6f1d14028c3539\n",
            "  Stored in directory: /root/.cache/pip/wheels/90/69/6b/1375c68a5b7ff94c40263b151c86f58bd72200bf0c465b5ba3\n",
            "Successfully built docplex\n",
            "Installing collected packages: docplex, cplex\n",
            "Successfully installed cplex-20.1.0.3 docplex-2.22.213\n"
          ]
        }
      ],
      "source": [
        "!pip install docplex cplex"
      ]
    },
    {
      "cell_type": "code",
      "source": [
        "#Importing cplex API\n",
        "import sys\n",
        "import cplex\n",
        "import docplex.cp\n",
        "\n",
        "#Importing numpy and random generator\n",
        "import numpy as np\n",
        "rand = np.random\n",
        "\n",
        "#Importing pyplot\n",
        "import matplotlib.pyplot as plt\n",
        "\n",
        "#Importing docplex model\n",
        "from docplex.mp.model import Model\n",
        "import itertools\n",
        "\n",
        "#Imports\n",
        "from enum import Enum\n",
        "from cplex.callbacks import UserCutCallback, LazyConstraintCallback"
      ],
      "metadata": {
        "id": "HcIdtwETi35V"
      },
      "execution_count": 2,
      "outputs": []
    },
    {
      "cell_type": "code",
      "source": [
        "class LazyCallback(LazyConstraintCallback):\n",
        "    \"\"\"Lazy constraint callback to enforce the capacity constraints.\n",
        "\n",
        "    If used then the callback is invoked for every integer feasible\n",
        "    solution CPLEX finds. For each location j it checks whether\n",
        "    constraint\n",
        "\n",
        "    sum(c in C) supply[c][j] <= (|C| - 1) * used[j]\n",
        "    sum(e in C) y[e] <= (|C| - 1)\n",
        "\n",
        "    is satisfied. If not then it adds the violated constraint as lazy\n",
        "    constraint.\n",
        "    \"\"\"\n",
        "\n",
        "    # Callback constructor. Fields 'locations', 'clients', 'used', 'supply'\n",
        "    # are set externally after registering the callback.\n",
        "    def __init__(self, env):\n",
        "      super().__init__(env)\n",
        "\n",
        "    def __call__(self):\n",
        "      \n",
        "\n",
        "        for j in C:\n",
        "            served = sum(self.get_values(\n",
        "                [self.y[e] for e in self.C]))\n",
        "            if served > (len(self.C) - 1.0):\n",
        "                print('Adding lazy constraint %s <= %d' %\n",
        "                      (' + '.join(['y(%d)' % (x) for x in self.C]),\n",
        "                       len(self.clients) - 1))\n",
        "                self.add(constraint=cplex.SparsePair(\n",
        "                    [self.supply[c][j] for c in self.clients] + [self.used[j]],\n",
        "                    [1.0] * len(self.clients) + [-(len(self.clients) - 1)]),\n",
        "                    sense='L',\n",
        "                    rhs=0.0)"
      ],
      "metadata": {
        "id": "53g_jXBSu0_B"
      },
      "execution_count": null,
      "outputs": []
    },
    {
      "cell_type": "code",
      "source": [
        "class Type(Enum):\n",
        "  AD = 1\n",
        "  B = 2\n",
        "  P = 3\n",
        "\n",
        "\n",
        "class Vertex:\n",
        "  def __init__(self, tp, delta):\n",
        "    self.tp = tp\n",
        "    # (delta_in, delta_out) -> delta_in = minus / delta_out = plus\n",
        "    self.delta = delta"
      ],
      "metadata": {
        "id": "smKPG0TQmBDy"
      },
      "execution_count": 18,
      "outputs": []
    },
    {
      "cell_type": "markdown",
      "source": [
        "**Esempio 1**"
      ],
      "metadata": {
        "id": "cZMl8j-YEiQp"
      }
    },
    {
      "cell_type": "code",
      "source": [
        "E = [\"E1\", \"E2\", \"E3\", \"E5\", \"E6\", \"E7\"]  # Edges\n",
        "V = []  # Vertex\n",
        "w = [1, 1, 1, 1, 1, 1]  # Weigths"
      ],
      "metadata": {
        "id": "yJCiEDRej3Ta"
      },
      "execution_count": 67,
      "outputs": []
    },
    {
      "cell_type": "code",
      "source": [
        "V.append(Vertex(tp=Type.AD, delta=([],[\"E1\"])))\n",
        "V.append(Vertex(tp=Type.P, delta=([\"E1\"],[\"E2\"])))\n",
        "V.append(Vertex(tp=Type.P, delta=([\"E2\"],[\"E3\"])))\n",
        "V.append(Vertex(tp=Type.P, delta=([\"E3\"],[\"E5\"])))\n",
        "V.append(Vertex(tp=Type.P, delta=([\"E6\"],[\"E7\"])))\n",
        "V.append(Vertex(tp=Type.P, delta=([\"E7\"],[\"E6\"])))\n",
        "V.append(Vertex(tp=Type.P, delta=([\"E5\"],[])))\n",
        "V.append(Vertex(tp=Type.P, delta=([],[])))"
      ],
      "metadata": {
        "id": "QMGHtKTg_gP9"
      },
      "execution_count": 68,
      "outputs": []
    },
    {
      "cell_type": "markdown",
      "source": [
        "**Esempio 2**"
      ],
      "metadata": {
        "id": "xOIDKm4HElk_"
      }
    },
    {
      "cell_type": "code",
      "source": [
        "E = [i for i in range(0, 8)]    # Edges\n",
        "V = []  # Vertex\n",
        "w = [1 for i in range(0, 8)]  # Weigths"
      ],
      "metadata": {
        "id": "YoUBmlQVEy-G"
      },
      "execution_count": 141,
      "outputs": []
    },
    {
      "cell_type": "code",
      "source": [
        "V.append(Vertex(tp=Type.AD, delta=([],[0])))\n",
        "V.append(Vertex(tp=Type.P, delta=([0],[1])))\n",
        "V.append(Vertex(tp=Type.P, delta=([1],[2, 3])))\n",
        "V.append(Vertex(tp=Type.P, delta=([2],[4])))\n",
        "V.append(Vertex(tp=Type.P, delta=([3, 5],[6])))\n",
        "V.append(Vertex(tp=Type.P, delta=([6],[5, 7])))\n",
        "V.append(Vertex(tp=Type.B, delta=([4],[])))\n",
        "V.append(Vertex(tp=Type.B, delta=([7],[])))"
      ],
      "metadata": {
        "id": "mSueYPfEEgpz"
      },
      "execution_count": 142,
      "outputs": []
    },
    {
      "cell_type": "code",
      "source": [
        "# Model\n",
        "model = Model('KEP_model')\n",
        "\n",
        "# Decision variables\n",
        "y = model.binary_var_dict(E, name='y')\n",
        "f_in = model.continuous_var_dict(len(V), name='f_in')\n",
        "f_out = model.continuous_var_dict(len(V), name='f_out')"
      ],
      "metadata": {
        "id": "nWcSjRU1jASU"
      },
      "execution_count": 143,
      "outputs": []
    },
    {
      "cell_type": "code",
      "source": [
        "#Function to minimize\n",
        "model.maximize(model.sum((w[e] * y[e]) for e in E))"
      ],
      "metadata": {
        "id": "mkoO5aZFulvA"
      },
      "execution_count": 144,
      "outputs": []
    },
    {
      "cell_type": "code",
      "source": [
        "#Constraints\n",
        "model.add_constraints(model.sum(y[e] for e in V[v].delta[0]) == f_in[v] for v,_ in enumerate(V))\n",
        "model.add_constraints(model.sum(y[e] for e in V[v].delta[1]) == f_out[v] for v,_ in enumerate(V))\n",
        "model.add_constraints((f_out[v] <= f_in[v]) for v,_ in enumerate(V) if V[v].tp == Type.P)\n",
        "model.add_constraints((f_in[v] <= 1) for v,_ in enumerate(V) if V[v].tp == Type.P)\n",
        "model.add_constraints((f_out[v] <= 1) for v,_ in enumerate(V) if (V[v].tp == Type.AD or V[v].tp == Type.B))"
      ],
      "metadata": {
        "id": "mE9UpKgijIOX",
        "colab": {
          "base_uri": "https://localhost:8080/"
        },
        "outputId": "91b6d31b-bd5c-4be8-dd78-46dd61b68905"
      },
      "execution_count": 145,
      "outputs": [
        {
          "output_type": "execute_result",
          "data": {
            "text/plain": [
              "[docplex.mp.LinearConstraint[](f_out_0,LE,1),\n",
              " docplex.mp.LinearConstraint[](f_out_6,LE,1),\n",
              " docplex.mp.LinearConstraint[](f_out_7,LE,1)]"
            ]
          },
          "metadata": {},
          "execution_count": 145
        }
      ]
    },
    {
      "cell_type": "code",
      "source": [
        "solution = model.solve(log_output=True)\n",
        "model.solve(log_output=True)"
      ],
      "metadata": {
        "id": "tDj32RThujIM",
        "colab": {
          "base_uri": "https://localhost:8080/"
        },
        "outputId": "f962219f-a09d-4130-80ad-2f106b685594"
      },
      "execution_count": 146,
      "outputs": [
        {
          "output_type": "stream",
          "name": "stdout",
          "text": [
            "Version identifier: 20.1.0.1 | 2021-12-07 | 9dfdf6686\n",
            "CPXPARAM_Read_DataCheck                          1\n",
            "Found incumbent of value 0.000000 after 0.00 sec. (0.00 ticks)\n",
            "Tried aggregator 3 times.\n",
            "MIP Presolve eliminated 15 rows and 8 columns.\n",
            "Aggregator did 12 substitutions.\n",
            "Reduced MIP has 2 rows, 4 columns, and 6 nonzeros.\n",
            "Reduced MIP has 3 binaries, 0 generals, 0 SOSs, and 0 indicators.\n",
            "Presolve time = 0.01 sec. (0.04 ticks)\n",
            "Probing time = 0.00 sec. (0.00 ticks)\n",
            "Tried aggregator 2 times.\n",
            "MIP Presolve eliminated 2 rows and 3 columns.\n",
            "MIP Presolve added 1 rows and 1 columns.\n",
            "Aggregator did 1 substitutions.\n",
            "All rows and columns eliminated.\n",
            "Presolve time = 0.01 sec. (0.01 ticks)\n",
            "\n",
            "Root node processing (before b&c):\n",
            "  Real time             =    0.02 sec. (0.05 ticks)\n",
            "Parallel b&c, 2 threads:\n",
            "  Real time             =    0.00 sec. (0.00 ticks)\n",
            "  Sync time (average)   =    0.00 sec.\n",
            "  Wait time (average)   =    0.00 sec.\n",
            "                          ------------\n",
            "Total (root+branch&cut) =    0.02 sec. (0.05 ticks)\n",
            "Version identifier: 20.1.0.1 | 2021-12-07 | 9dfdf6686\n",
            "CPXPARAM_Read_DataCheck                          1\n",
            "\n",
            "Root node processing (before b&c):\n",
            "  Real time             =    0.00 sec. (0.00 ticks)\n",
            "Parallel b&c, 2 threads:\n",
            "  Real time             =    0.00 sec. (0.00 ticks)\n",
            "  Sync time (average)   =    0.00 sec.\n",
            "  Wait time (average)   =    0.00 sec.\n",
            "                          ------------\n",
            "Total (root+branch&cut) =    0.00 sec. (0.00 ticks)\n"
          ]
        },
        {
          "output_type": "execute_result",
          "data": {
            "text/plain": [
              "docplex.mp.solution.SolveSolution(obj=6,values={y_0:1,y_1:1,y_2:1,y_4:1,.."
            ]
          },
          "metadata": {},
          "execution_count": 146
        }
      ]
    },
    {
      "cell_type": "code",
      "source": [
        "print(solution)"
      ],
      "metadata": {
        "colab": {
          "base_uri": "https://localhost:8080/"
        },
        "id": "fUYe6ctMLX2b",
        "outputId": "40c323c5-aec3-4aff-d13b-5a1dcd34aecb"
      },
      "execution_count": 147,
      "outputs": [
        {
          "output_type": "stream",
          "name": "stdout",
          "text": [
            "solution for: KEP_model\n",
            "objective: 6\n",
            "y_0=1\n",
            "y_1=1\n",
            "y_2=1\n",
            "y_4=1\n",
            "y_5=1\n",
            "y_6=1\n",
            "f_in_1=1.000\n",
            "f_in_2=1.000\n",
            "f_in_3=1.000\n",
            "f_in_4=1.000\n",
            "f_in_5=1.000\n",
            "f_in_6=1.000\n",
            "f_out_0=1.000\n",
            "f_out_1=1.000\n",
            "f_out_2=1.000\n",
            "f_out_3=1.000\n",
            "f_out_4=1.000\n",
            "f_out_5=1.000\n",
            "\n"
          ]
        }
      ]
    },
    {
      "cell_type": "code",
      "source": [
        "print(solution.solve_details)"
      ],
      "metadata": {
        "colab": {
          "base_uri": "https://localhost:8080/"
        },
        "id": "KA6R-BK4AZWu",
        "outputId": "fcfa84a4-5daf-4103-9972-228797e85719"
      },
      "execution_count": 148,
      "outputs": [
        {
          "output_type": "stream",
          "name": "stdout",
          "text": [
            "status  = integer optimal solution\n",
            "time    = 0.033905 s.\n",
            "problem = MILP\n",
            "gap     = 0%\n",
            "\n"
          ]
        }
      ]
    }
  ]
}