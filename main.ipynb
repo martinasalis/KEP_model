{
  "nbformat": 4,
  "nbformat_minor": 0,
  "metadata": {
    "colab": {
      "name": "main.ipynb",
      "provenance": []
    },
    "kernelspec": {
      "name": "python3",
      "display_name": "Python 3"
    },
    "language_info": {
      "name": "python"
    }
  },
  "cells": [
    {
      "cell_type": "code",
      "execution_count": 1,
      "metadata": {
        "id": "_jHMTvbMhfpU",
        "colab": {
          "base_uri": "https://localhost:8080/"
        },
        "outputId": "130b56e4-678e-4974-b418-41fd85136692"
      },
      "outputs": [
        {
          "output_type": "stream",
          "name": "stdout",
          "text": [
            "Collecting docplex\n",
            "  Downloading docplex-2.22.213.tar.gz (634 kB)\n",
            "\u001b[K     |████████████████████████████████| 634 kB 7.7 MB/s \n",
            "\u001b[?25hCollecting cplex\n",
            "  Downloading cplex-20.1.0.3-cp37-cp37m-manylinux1_x86_64.whl (30.9 MB)\n",
            "\u001b[K     |████████████████████████████████| 30.9 MB 56.2 MB/s \n",
            "\u001b[?25hRequirement already satisfied: six in /usr/local/lib/python3.7/dist-packages (from docplex) (1.15.0)\n",
            "Building wheels for collected packages: docplex\n",
            "  Building wheel for docplex (setup.py) ... \u001b[?25l\u001b[?25hdone\n",
            "  Created wheel for docplex: filename=docplex-2.22.213-py3-none-any.whl size=696882 sha256=435201f480eb7f8cdb4a40f0aabcd4d17c83f0f341d73c08826f12528c91f921\n",
            "  Stored in directory: /root/.cache/pip/wheels/90/69/6b/1375c68a5b7ff94c40263b151c86f58bd72200bf0c465b5ba3\n",
            "Successfully built docplex\n",
            "Installing collected packages: docplex, cplex\n",
            "Successfully installed cplex-20.1.0.3 docplex-2.22.213\n"
          ]
        }
      ],
      "source": [
        "!pip install docplex cplex"
      ]
    },
    {
      "cell_type": "code",
      "source": [
        "#Importing cplex API\n",
        "import sys\n",
        "import cplex\n",
        "import docplex.cp\n",
        "\n",
        "#Importing numpy and random generator\n",
        "import numpy as np\n",
        "rand = np.random\n",
        "\n",
        "#Importing pyplot\n",
        "import matplotlib.pyplot as plt\n",
        "\n",
        "#Importing docplex model\n",
        "from docplex.mp.model import Model\n",
        "import itertools\n",
        "\n",
        "#Imports\n",
        "from enum import Enum\n",
        "from cplex.callbacks import UserCutCallback, LazyConstraintCallback\n",
        "from docplex.mp.callbacks.cb_mixin import *\n",
        "import networkx as nx"
      ],
      "metadata": {
        "id": "HcIdtwETi35V"
      },
      "execution_count": 137,
      "outputs": []
    },
    {
      "cell_type": "markdown",
      "source": [
        "**Definizione classi**"
      ],
      "metadata": {
        "id": "Au_wlZLZJ9zD"
      }
    },
    {
      "cell_type": "markdown",
      "source": [
        "Classe lazy constraints"
      ],
      "metadata": {
        "id": "xePEv3T0J6WR"
      }
    },
    {
      "cell_type": "code",
      "source": [
        "class LazyCallback(ConstraintCallbackMixin, LazyConstraintCallback):\n",
        "  def __init__(self, env):\n",
        "    LazyConstraintCallback.__init__(self, env)\n",
        "    ConstraintCallbackMixin.__init__(self)\n",
        "\n",
        "  def __call__(self):\n",
        "    try:\n",
        "      # Controlliamo tutti i cicli maggiori di k\n",
        "      for c in self.C:\n",
        "        # Salviamo la soluzione trovata senza l'uso di lazy constraints\n",
        "        y_sol = self.make_complete_solution().get_value_dict(self.y)\n",
        "        # Controlliamo se il ciclo fa parte della soluzione trovata\n",
        "        served = sum([y_sol[e] for e in c])\n",
        "\n",
        "        if not (served <= (len(c) - 1)):\n",
        "          print('Adding lazy constraint %s <= %d' % \n",
        "                (' + '.join(['y(%d)' % (x) for x in c]), len(c) - 1))\n",
        "          # Aggiungiamo la matrice con il vincolo relativo al ciclo nel modello\n",
        "          self.add(constraint=cplex.SparsePair(ind=[x for x in c],\n",
        "                                               val=[y_sol[e] for e in c]), \n",
        "                  sense='L', \n",
        "                  rhs=(len(c) - 1))\n",
        "          \n",
        "    except:\n",
        "      print(sys.exc_info()[0])\n",
        "      raise"
      ],
      "metadata": {
        "id": "53g_jXBSu0_B"
      },
      "execution_count": 138,
      "outputs": []
    },
    {
      "cell_type": "markdown",
      "source": [
        "Classe vertice"
      ],
      "metadata": {
        "id": "9rQmukVKJwOT"
      }
    },
    {
      "cell_type": "code",
      "source": [
        "class Type(Enum):\n",
        "  AD = 1\n",
        "  B = 2\n",
        "  P = 3\n",
        "\n",
        "\n",
        "class Vertex:\n",
        "  def __init__(self, tp, delta_in, delta_out):\n",
        "    self.tp = tp\n",
        "\n",
        "    # delta_in = minus\n",
        "    self.delta_in = delta_in\n",
        "    \n",
        "    # delta_out = plus\n",
        "    self.delta_out = delta_out"
      ],
      "metadata": {
        "id": "smKPG0TQmBDy"
      },
      "execution_count": 139,
      "outputs": []
    },
    {
      "cell_type": "markdown",
      "source": [
        "**Definizione funzioni**"
      ],
      "metadata": {
        "id": "oxlnEAXnewYg"
      }
    },
    {
      "cell_type": "code",
      "source": [
        "def get_cycles_edges(C, V):\n",
        "  edges = []\n",
        "  aux = []\n",
        "\n",
        "  for c in C:\n",
        "    aux = []\n",
        "    \n",
        "    for i,_ in enumerate(c):\n",
        "      if (i + 1) != len(c):\n",
        "        aux.append(list(set(V[c[i]].delta_out).intersection(set(V[c[i + 1]].delta_in)))[0])\n",
        "      \n",
        "      else:\n",
        "        aux.append(list(set(V[c[i]].delta_out).intersection(set(V[c[0]].delta_in)))[0])\n",
        "    \n",
        "    edges.append(aux)\n",
        "\n",
        "  return edges"
      ],
      "metadata": {
        "id": "6bsL8fUnRRhT"
      },
      "execution_count": 146,
      "outputs": []
    },
    {
      "cell_type": "markdown",
      "source": [
        "**Esempio 1**"
      ],
      "metadata": {
        "id": "cZMl8j-YEiQp"
      }
    },
    {
      "cell_type": "code",
      "source": [
        "E = [i for i in range(0, 8)]    # Edges\n",
        "V = []  # Vertex\n",
        "w = [1 for i in range(0, 8)]  # Weigths\n",
        "k = 3"
      ],
      "metadata": {
        "id": "YoUBmlQVEy-G"
      },
      "execution_count": 140,
      "outputs": []
    },
    {
      "cell_type": "code",
      "source": [
        "V.append(Vertex(tp=Type.AD, delta_in=[], delta_out=[0])) # 0\n",
        "V.append(Vertex(tp=Type.P, delta_in=[0], delta_out=[1])) # 1\n",
        "V.append(Vertex(tp=Type.P, delta_in=[1], delta_out=[2, 3])) # 2\n",
        "V.append(Vertex(tp=Type.P, delta_in=[2], delta_out=[4])) # 3\n",
        "V.append(Vertex(tp=Type.P, delta_in=[3, 5], delta_out=[6])) # 4\n",
        "V.append(Vertex(tp=Type.P, delta_in=[6], delta_out=[5, 7])) # 5\n",
        "V.append(Vertex(tp=Type.B, delta_in=[4], delta_out=[])) # 6\n",
        "V.append(Vertex(tp=Type.B, delta_in=[7], delta_out=[])) # 7"
      ],
      "metadata": {
        "id": "mSueYPfEEgpz"
      },
      "execution_count": 141,
      "outputs": []
    },
    {
      "cell_type": "markdown",
      "source": [
        "Stampa grafo"
      ],
      "metadata": {
        "id": "_4i6biAqJVuN"
      }
    },
    {
      "cell_type": "code",
      "source": [
        "G = nx.DiGraph()\n",
        "G.add_edges_from([(0, 1), (1, 2), (2, 3), (2, 4), (3, 6), \n",
        "                  (4, 5), (5, 4), (5, 7)])\n",
        "\n",
        "pos = nx.spring_layout(G, seed=13648)\n",
        "plt.figure(figsize =(12, 12))\n",
        "plt.title(\"Grafo iniziale\", fontsize=25)\n",
        "\n",
        "nx.draw_networkx(G, pos=pos, with_labels=True, node_color='yellow', node_size=1000, \n",
        "                 font_size=16, arrowstyle=\"->\", width=2.5)"
      ],
      "metadata": {
        "colab": {
          "base_uri": "https://localhost:8080/",
          "height": 708
        },
        "id": "g_uG_99BDa_J",
        "outputId": "e4f835a3-bdd7-452f-871b-9aa9663ca3d7"
      },
      "execution_count": 142,
      "outputs": [
        {
          "output_type": "display_data",
          "data": {
            "image/png": "[encoded data removed]",
            "text/plain": [
              "<Figure size 864x864 with 1 Axes>"
            ]
          },
          "metadata": {}
        }
      ]
    },
    {
      "cell_type": "markdown",
      "source": [
        "**Esempio 2**"
      ],
      "metadata": {
        "id": "uR-ch9lQ4bTQ"
      }
    },
    {
      "cell_type": "code",
      "source": [
        "E = [i for i in range(0, 13)]    # Edges\n",
        "V = []  # Vertex\n",
        "w = [1 for i in range(0, 13)]  # Weigths\n",
        "k = 3"
      ],
      "metadata": {
        "id": "5ETGEMZi58hx"
      },
      "execution_count": 152,
      "outputs": []
    },
    {
      "cell_type": "code",
      "source": [
        "V.append(Vertex(tp=Type.P, delta_in=[6, 4, 12], delta_out=[0])) # 0\n",
        "V.append(Vertex(tp=Type.P, delta_in=[0], delta_out=[1])) # 1\n",
        "V.append(Vertex(tp=Type.P, delta_in=[1], delta_out=[2, 12])) # 2\n",
        "V.append(Vertex(tp=Type.P, delta_in=[5], delta_out=[6, 7])) # 3\n",
        "V.append(Vertex(tp=Type.P, delta_in=[3], delta_out=[4, 5, 9])) # 4\n",
        "V.append(Vertex(tp=Type.P, delta_in=[2], delta_out=[3, 8])) # 5\n",
        "V.append(Vertex(tp=Type.B, delta_in=[7], delta_out=[])) # 6\n",
        "V.append(Vertex(tp=Type.B, delta_in=[9], delta_out=[])) # 7\n",
        "V.append(Vertex(tp=Type.P, delta_in=[8, 11], delta_out=[10])) # 8\n",
        "V.append(Vertex(tp=Type.P, delta_in=[10], delta_out=[11])) # 9"
      ],
      "metadata": {
        "id": "RdoBavSD5-vd"
      },
      "execution_count": 153,
      "outputs": []
    },
    {
      "cell_type": "markdown",
      "source": [
        "Stampa grafo"
      ],
      "metadata": {
        "id": "W06HFLHH4eKo"
      }
    },
    {
      "cell_type": "code",
      "source": [
        "G = nx.DiGraph()\n",
        "G.add_edges_from([(0, 1), (1, 2), (2, 5), (5, 4), (4, 0), (4, 3), (3, 0), \n",
        "                  (3, 6), (5, 8), (4, 7), (8, 9), (9, 8), (2, 0)])\n",
        "\n",
        "pos = nx.spring_layout(G, seed=13648)\n",
        "plt.figure(figsize =(12, 12))\n",
        "plt.title(\"Grafo iniziale\", fontsize=25)\n",
        "\n",
        "nx.draw_networkx(G, pos=pos, with_labels = True, node_color ='yellow', node_size = 1000, \n",
        "                 font_size = 16, arrowstyle=\"->\", width=2.5)"
      ],
      "metadata": {
        "colab": {
          "base_uri": "https://localhost:8080/",
          "height": 708
        },
        "id": "grdygBXa4gVT",
        "outputId": "929dcb58-62a5-4d16-c236-3f58b75df196"
      },
      "execution_count": 154,
      "outputs": [
        {
          "output_type": "display_data",
          "data": {
            "image/png": "[encoded data removed]",
            "text/plain": [
              "<Figure size 864x864 with 1 Axes>"
            ]
          },
          "metadata": {}
        }
      ]
    },
    {
      "cell_type": "markdown",
      "source": [
        "**Definizione modello**"
      ],
      "metadata": {
        "id": "oaSqO-liJBLK"
      }
    },
    {
      "cell_type": "code",
      "source": [
        "# Model\n",
        "model = Model('KEP_model')\n",
        "\n",
        "# Decision variables\n",
        "y = model.binary_var_dict(E, name='y')\n",
        "f_in = model.continuous_var_dict(len(V), name='f_in')\n",
        "f_out = model.continuous_var_dict(len(V), name='f_out')"
      ],
      "metadata": {
        "id": "nWcSjRU1jASU"
      },
      "execution_count": 155,
      "outputs": []
    },
    {
      "cell_type": "code",
      "source": [
        "#Function to minimize\n",
        "model.maximize(model.sum((w[e] * y[e]) for e in E))"
      ],
      "metadata": {
        "id": "mkoO5aZFulvA"
      },
      "execution_count": 156,
      "outputs": []
    },
    {
      "cell_type": "code",
      "source": [
        "#Constraints\n",
        "model.add_constraints(model.sum(y[e] for e in V[v].delta_in) == f_in[v] for v,_ in enumerate(V))\n",
        "model.add_constraints(model.sum(y[e] for e in V[v].delta_out) == f_out[v] for v,_ in enumerate(V))\n",
        "model.add_constraints((f_out[v] <= f_in[v]) for v,_ in enumerate(V) if V[v].tp == Type.P)\n",
        "model.add_constraints((f_in[v] <= 1) for v,_ in enumerate(V) if V[v].tp == Type.P)\n",
        "model.add_constraints((f_out[v] <= 1) for v,_ in enumerate(V) if (V[v].tp == Type.AD or V[v].tp == Type.B))"
      ],
      "metadata": {
        "id": "mE9UpKgijIOX",
        "colab": {
          "base_uri": "https://localhost:8080/"
        },
        "outputId": "b64025ed-c7d2-4ad7-9bca-304fd41a6bce"
      },
      "execution_count": 157,
      "outputs": [
        {
          "output_type": "execute_result",
          "data": {
            "text/plain": [
              "[docplex.mp.LinearConstraint[](f_out_6,LE,1),\n",
              " docplex.mp.LinearConstraint[](f_out_7,LE,1)]"
            ]
          },
          "metadata": {},
          "execution_count": 157
        }
      ]
    },
    {
      "cell_type": "code",
      "source": [
        "all_cycles = list(nx.simple_cycles(G))\n",
        "C = []\n",
        "\n",
        "# Creiamo una lista di tutti i cicli con una lunghezza maggiore di k\n",
        "for c in all_cycles:\n",
        "  if len(c) > k:\n",
        "    C.append(c)\n",
        "\n",
        "C_edges = get_cycles_edges(C, V)\n",
        "\n",
        "if len(C) > 0:\n",
        "  # Aggiungiamo il lazy constraints al modello\n",
        "  clb = model.register_callback(LazyCallback)\n",
        "  clb.C = C_edges\n",
        "  clb.y = y"
      ],
      "metadata": {
        "id": "KAzmYVr4zn99"
      },
      "execution_count": 158,
      "outputs": []
    },
    {
      "cell_type": "markdown",
      "source": [
        "**Risoluzione modello**"
      ],
      "metadata": {
        "id": "znHa34qRJJNH"
      }
    },
    {
      "cell_type": "code",
      "source": [
        "solution = model.solve(log_output=True)\n",
        "model.solve(log_output=True)"
      ],
      "metadata": {
        "id": "tDj32RThujIM",
        "colab": {
          "base_uri": "https://localhost:8080/"
        },
        "outputId": "830f789b-6370-47ac-9ca9-c84c2b24813d"
      },
      "execution_count": 159,
      "outputs": [
        {
          "output_type": "stream",
          "name": "stdout",
          "text": [
            "Version identifier: 20.1.0.1 | 2021-12-07 | 9dfdf6686\n",
            "CPXPARAM_Read_DataCheck                          1\n",
            "Legacy callback                                  LD\n",
            "Warning: Control callbacks may disable some MIP features.\n",
            "Lazy constraint(s) or lazy constraint/branch callback is present.\n",
            "    Disabling dual reductions (CPX_PARAM_REDUCE) in presolve.\n",
            "    Disabling presolve reductions that prevent crushing forms (CPX_PARAM_PREREFORM).\n",
            "         Disabling repeat represolve because of lazy constraint/incumbent callback.\n",
            "Tried aggregator 2 times.\n",
            "MIP Presolve eliminated 14 rows and 4 columns.\n",
            "Aggregator did 14 substitutions.\n",
            "Reduced MIP has 10 rows, 15 columns, and 28 nonzeros.\n",
            "Reduced MIP has 13 binaries, 0 generals, 0 SOSs, and 0 indicators.\n",
            "Presolve time = 0.01 sec. (0.04 ticks)\n",
            "Probing fixed 3 vars, tightened 0 bounds.\n",
            "Probing changed sense of 8 constraints.\n",
            "Probing time = 0.00 sec. (0.01 ticks)\n",
            "Clique table members: 29.\n",
            "MIP emphasis: balance optimality and feasibility.\n",
            "MIP search method: traditional branch-and-cut.\n",
            "Parallel mode: none, using 1 thread.\n",
            "Root relaxation solution time = 0.00 sec. (0.01 ticks)\n",
            "Adding lazy constraint y(0) + y(1) + y(2) + y(3) + y(5) + y(6) <= 5\n",
            "\n",
            "        Nodes                                         Cuts/\n",
            "   Node  Left     Objective  IInf  Best Integer    Best Bound    ItCnt     Gap         Variable B NodeID Parent  Depth\n",
            "\n",
            "      0     0        7.5000     3                      8.0000        1         \n",
            "Adding lazy constraint y(0) + y(1) + y(2) + y(3) + y(4) <= 4\n",
            "*     0     0      integral     0        5.0000       Cuts: 5        3    0.00%\n",
            "      0     0        cutoff              5.0000        5.0000        3    0.00%                        0             0\n",
            "Elapsed time = 0.04 sec. (0.25 ticks, tree = 0.01 MB, solutions = 1)\n",
            "\n",
            "Gomory fractional cuts applied:  1\n",
            "User cuts applied:  2\n",
            "\n",
            "Root node processing (before b&c):\n",
            "  Real time             =    0.04 sec. (0.25 ticks)\n",
            "Sequential b&c:\n",
            "  Real time             =    0.00 sec. (0.00 ticks)\n",
            "                          ------------\n",
            "Total (root+branch&cut) =    0.04 sec. (0.25 ticks)\n",
            "Version identifier: 20.1.0.1 | 2021-12-07 | 9dfdf6686\n",
            "CPXPARAM_Read_DataCheck                          1\n",
            "Legacy callback                                  LD\n",
            "Warning: Control callbacks may disable some MIP features.\n",
            "Lazy constraint(s) or lazy constraint/branch callback is present.\n",
            "    Disabling dual reductions (CPX_PARAM_REDUCE) in presolve.\n",
            "    Disabling presolve reductions that prevent crushing forms (CPX_PARAM_PREREFORM).\n",
            "         Disabling repeat represolve because of lazy constraint/incumbent callback.\n",
            "\n",
            "Root node processing (before b&c):\n",
            "  Real time             =    0.01 sec. (0.00 ticks)\n",
            "Sequential b&c:\n",
            "  Real time             =    0.00 sec. (0.00 ticks)\n",
            "                          ------------\n",
            "Total (root+branch&cut) =    0.01 sec. (0.00 ticks)\n"
          ]
        },
        {
          "output_type": "execute_result",
          "data": {
            "text/plain": [
              "docplex.mp.solution.SolveSolution(obj=5,values={y_0:1,y_1:1,y_10:1,y_11:.."
            ]
          },
          "metadata": {},
          "execution_count": 159
        }
      ]
    },
    {
      "cell_type": "markdown",
      "source": [
        "**Stampa soluzione**"
      ],
      "metadata": {
        "id": "AZlGBHQqKd0s"
      }
    },
    {
      "cell_type": "markdown",
      "source": [
        "Soluzione"
      ],
      "metadata": {
        "id": "8wMKgp3Td_dH"
      }
    },
    {
      "cell_type": "code",
      "source": [
        "print(solution)"
      ],
      "metadata": {
        "colab": {
          "base_uri": "https://localhost:8080/"
        },
        "id": "fUYe6ctMLX2b",
        "outputId": "68ca5756-74f7-429c-db85-12e5a7d30a47"
      },
      "execution_count": 160,
      "outputs": [
        {
          "output_type": "stream",
          "name": "stdout",
          "text": [
            "solution for: KEP_model\n",
            "objective: 5\n",
            "y_0=1\n",
            "y_1=1\n",
            "y_10=1\n",
            "y_11=1\n",
            "y_12=1\n",
            "f_in_0=1.000\n",
            "f_in_1=1.000\n",
            "f_in_2=1.000\n",
            "f_in_8=1.000\n",
            "f_in_9=1.000\n",
            "f_out_0=1.000\n",
            "f_out_1=1.000\n",
            "f_out_2=1.000\n",
            "f_out_8=1.000\n",
            "f_out_9=1.000\n",
            "\n"
          ]
        }
      ]
    },
    {
      "cell_type": "markdown",
      "source": [
        "Grafo finale"
      ],
      "metadata": {
        "id": "Y_9k0GApeBKx"
      }
    },
    {
      "cell_type": "code",
      "source": [
        "temp = [(u, v) for u,v,i in G.edges(data=True) if (solution.get_value_dict(f_out)[u] == 1) and (solution.get_value_dict(f_in)[v] == 1)]\n",
        "\n",
        "res = []\n",
        "for u,v in temp:\n",
        "  edge = list(set(V[u].delta_out).intersection(set(V[v].delta_in)))[0]\n",
        "  if solution.get_value_dict(y)[edge] == 1.0:\n",
        "    res.append((u, v))"
      ],
      "metadata": {
        "id": "DvcME99BFNgj"
      },
      "execution_count": 161,
      "outputs": []
    },
    {
      "cell_type": "code",
      "source": [
        "plt.figure(figsize =(12, 12))\n",
        "plt.title(\"Grafo finale\", fontsize=25)\n",
        "\n",
        "nx.draw_networkx(G, pos=pos, with_labels=True, node_color='yellow', node_size=1000, \n",
        "                 font_size=16, edgelist=res, arrowstyle=\"->\", width=2.5)"
      ],
      "metadata": {
        "colab": {
          "base_uri": "https://localhost:8080/",
          "height": 708
        },
        "id": "JSjnwE_lZhwo",
        "outputId": "b95b7081-9f95-4ede-9439-b636272c5517"
      },
      "execution_count": 162,
      "outputs": [
        {
          "output_type": "display_data",
          "data": {
            "image/png": "[encoded data removed]",
            "text/plain": [
              "<Figure size 864x864 with 1 Axes>"
            ]
          },
          "metadata": {}
        }
      ]
    }
  ]
}