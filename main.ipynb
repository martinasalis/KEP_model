{
  "nbformat": 4,
  "nbformat_minor": 0,
  "metadata": {
    "colab": {
      "name": "main.ipynb",
      "provenance": [],
      "authorship_tag": "ABX9TyO3vRP35kpDvtMas1sLJeWc"
    },
    "kernelspec": {
      "name": "python3",
      "display_name": "Python 3"
    },
    "language_info": {
      "name": "python"
    }
  },
  "cells": [
    {
      "cell_type": "code",
      "execution_count": 2,
      "metadata": {
        "id": "_jHMTvbMhfpU",
        "colab": {
          "base_uri": "https://localhost:8080/"
        },
        "outputId": "0a1d1b6a-8b89-464d-926d-6cfa21659ed6"
      },
      "outputs": [
        {
          "output_type": "stream",
          "name": "stdout",
          "text": [
            "Requirement already satisfied: docplex in /usr/local/lib/python3.7/dist-packages (2.22.213)\n",
            "Collecting cplex\n",
            "  Downloading cplex-20.1.0.3-cp37-cp37m-manylinux1_x86_64.whl (30.9 MB)\n",
            "\u001b[K     |████████████████████████████████| 30.9 MB 77.8 MB/s \n",
            "\u001b[?25hRequirement already satisfied: six in /usr/local/lib/python3.7/dist-packages (from docplex) (1.15.0)\n",
            "Installing collected packages: cplex\n",
            "Successfully installed cplex-20.1.0.3\n"
          ]
        }
      ],
      "source": [
        "!pip install docplex cplex"
      ]
    },
    {
      "cell_type": "code",
      "source": [
        "#Importing cplex API\n",
        "import sys\n",
        "import docplex.cp\n",
        "\n",
        "#Importing numpy and random generator\n",
        "import numpy as np\n",
        "rand = np.random\n",
        "\n",
        "#Importing pyplot\n",
        "import matplotlib.pyplot as plt\n",
        "\n",
        "#Importing docplex model\n",
        "from docplex.mp.model import Model\n",
        "import itertools\n",
        "\n",
        "#Imports\n",
        "from enum import Enum"
      ],
      "metadata": {
        "id": "HcIdtwETi35V"
      },
      "execution_count": 14,
      "outputs": []
    },
    {
      "cell_type": "code",
      "source": [
        "class Type(Enum):\n",
        "  AD = 1\n",
        "  B = 2\n",
        "  P = 3\n",
        "\n",
        "\n",
        "class Vertex:\n",
        "  def __init__(self, type, delta, f_in, f_out, AD=None, B=None, P=None):\n",
        "    self.AB = AD\n",
        "    self.B = B\n",
        "    self.P = P\n",
        "    self.delta = delta\n",
        "    self.f_in = f_in\n",
        "    self.f_out = f_out"
      ],
      "metadata": {
        "id": "smKPG0TQmBDy"
      },
      "execution_count": 16,
      "outputs": []
    },
    {
      "cell_type": "code",
      "source": [
        "E = []  # Edges\n",
        "V = []  # Vertex\n",
        "w = []  # Weigths\n",
        "y = [] = [i for i in E]"
      ],
      "metadata": {
        "id": "yJCiEDRej3Ta"
      },
      "execution_count": 17,
      "outputs": []
    },
    {
      "cell_type": "code",
      "source": [
        "# Model\n",
        "model = Model('KEP_model')\n",
        "\n",
        "# Decision variables\n",
        "y = model.binary_var_dict(y, name='y')"
      ],
      "metadata": {
        "id": "nWcSjRU1jASU"
      },
      "execution_count": 18,
      "outputs": []
    },
    {
      "cell_type": "code",
      "source": [
        "#Function to minimize\n",
        "model.maximize(model.sum(w[e] * y[e] for e,_ in enumerate(E)))"
      ],
      "metadata": {
        "id": "mkoO5aZFulvA"
      },
      "execution_count": 21,
      "outputs": []
    },
    {
      "cell_type": "code",
      "source": [
        "#Constraints\n",
        "model.add_constraints(model.sum(y[e] for e,_ in enumerate(V[v].delta[0])) == V[v].f_in for v,_ in enumerate(V))\n",
        "model.add_constraints(model.sum(y[e] for e,_ in enumerate(V[v].delta[1])) == V[v].f_out for v,_ in enumerate(V))\n",
        "model.add_constraints(V[v].f_out <= V[v].f_in <= 1 for v,_ in enumerate(V) if V[v].type == Type.P)\n",
        "model.add_constraints(V[v].f_out <= 1 for v,_ in enumerate(V) if (V[v].type == Type.AD or V[v].type == Type.B))\n",
        "model.add_constraints((y[e] == 0 or y[e] == 1) for e,_ in enumerate(E))"
      ],
      "metadata": {
        "id": "mE9UpKgijIOX"
      },
      "execution_count": null,
      "outputs": []
    },
    {
      "cell_type": "code",
      "source": [
        "solution = model.solve(log_output=True)\n",
        "model.solve(log_output=True)"
      ],
      "metadata": {
        "id": "tDj32RThujIM"
      },
      "execution_count": null,
      "outputs": []
    }
  ]
}